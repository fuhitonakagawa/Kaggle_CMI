{
 "cells": [
  {
   "cell_type": "markdown",
   "id": "80351998",
   "metadata": {
    "papermill": {
     "duration": 0.004634,
     "end_time": "2025-06-09T15:53:24.944701",
     "exception": false,
     "start_time": "2025-06-09T15:53:24.940067",
     "status": "completed"
    },
    "tags": []
   },
   "source": [
    "# Let's try using a 1D CNN!\n",
    "\n",
    "A friend told me they are good for dealing with time-series data like this.\n",
    "\n",
    "### 50% of Hidden Test Set is IMU-only!\n",
    "* \"Half of the hidden-test sequences are recorded with IMU only; the thermopile (thm_) and time-of-flight (tof__v*) columns are still present but contain null values for those sequences.\"\n",
    "* https://www.kaggle.com/competitions/cmi-detect-behavior-with-sensor-data/data\n",
    "\n",
    "Easy approach: **Just use the IMU data.**\n",
    "\n",
    "Also ignoring demographics data for now.\n",
    "\n",
    "*Friendly Reminder: If re-using large parts of this work in a public notebook - **please credit where you found the code**.*"
   ]
  },
  {
   "cell_type": "code",
   "execution_count": 1,
   "id": "d28d1be8",
   "metadata": {
    "execution": {
     "iopub.execute_input": "2025-06-09T15:53:24.953950Z",
     "iopub.status.busy": "2025-06-09T15:53:24.953306Z",
     "iopub.status.idle": "2025-06-09T15:53:41.481776Z",
     "shell.execute_reply": "2025-06-09T15:53:41.480854Z"
    },
    "papermill": {
     "duration": 16.53444,
     "end_time": "2025-06-09T15:53:41.482958",
     "exception": false,
     "start_time": "2025-06-09T15:53:24.948518",
     "status": "completed"
    },
    "tags": []
   },
   "outputs": [
    {
     "name": "stderr",
     "output_type": "stream",
     "text": [
      "2025-06-09 15:53:29.405088: E external/local_xla/xla/stream_executor/cuda/cuda_fft.cc:477] Unable to register cuFFT factory: Attempting to register factory for plugin cuFFT when one has already been registered\n",
      "WARNING: All log messages before absl::InitializeLog() is called are written to STDERR\n",
      "E0000 00:00:1749484409.603996      19 cuda_dnn.cc:8310] Unable to register cuDNN factory: Attempting to register factory for plugin cuDNN when one has already been registered\n",
      "E0000 00:00:1749484409.662094      19 cuda_blas.cc:1418] Unable to register cuBLAS factory: Attempting to register factory for plugin cuBLAS when one has already been registered\n"
     ]
    },
    {
     "name": "stdout",
     "output_type": "stream",
     "text": [
      "Imports loaded\n"
     ]
    }
   ],
   "source": [
    "import os\n",
    "import numpy as np\n",
    "import pandas as pd\n",
    "import random\n",
    "from sklearn.model_selection import train_test_split\n",
    "from sklearn.preprocessing import StandardScaler, LabelEncoder\n",
    "from tensorflow.keras.models import Sequential, load_model\n",
    "from tensorflow.keras.layers import Conv1D, MaxPooling1D, Flatten, Dense, Dropout, GlobalMaxPooling1D, BatchNormalization\n",
    "from tensorflow.keras.utils import to_categorical\n",
    "from tensorflow.keras.optimizers import Adam\n",
    "from tensorflow.keras.callbacks import EarlyStopping, ReduceLROnPlateau\n",
    "\n",
    "from tensorflow.keras.preprocessing.sequence import pad_sequences\n",
    "import tensorflow as tf\n",
    "import polars as pl\n",
    "import kaggle_evaluation.cmi_inference_server\n",
    "\n",
    "# Set global seed for reproducibility\n",
    "SEED = 42\n",
    "os.environ['PYTHONHASHSEED'] = str(SEED)\n",
    "random.seed(SEED)\n",
    "np.random.seed(SEED)\n",
    "tf.random.set_seed(SEED)\n",
    "\n",
    "print(\"Imports loaded\")"
   ]
  },
  {
   "cell_type": "markdown",
   "id": "7e36fc56",
   "metadata": {
    "papermill": {
     "duration": 0.003515,
     "end_time": "2025-06-09T15:53:41.490345",
     "exception": false,
     "start_time": "2025-06-09T15:53:41.486830",
     "status": "completed"
    },
    "tags": []
   },
   "source": [
    "# Load Train Data"
   ]
  },
  {
   "cell_type": "code",
   "execution_count": 2,
   "id": "f5e03d05",
   "metadata": {
    "execution": {
     "iopub.execute_input": "2025-06-09T15:53:41.498543Z",
     "iopub.status.busy": "2025-06-09T15:53:41.498099Z",
     "iopub.status.idle": "2025-06-09T15:54:09.779594Z",
     "shell.execute_reply": "2025-06-09T15:54:09.778730Z"
    },
    "papermill": {
     "duration": 28.286968,
     "end_time": "2025-06-09T15:54:09.780810",
     "exception": false,
     "start_time": "2025-06-09T15:53:41.493842",
     "status": "completed"
    },
    "tags": []
   },
   "outputs": [
    {
     "name": "stdout",
     "output_type": "stream",
     "text": [
      "Loading dataset...\n",
      "Loaded 574945 rows.\n"
     ]
    }
   ],
   "source": [
    "# Load the dataset\n",
    "print(\"Loading dataset...\")\n",
    "df = pd.read_csv('/kaggle/input/cmi-detect-behavior-with-sensor-data/train.csv')\n",
    "print(f\"Loaded {len(df)} rows.\")"
   ]
  },
  {
   "cell_type": "markdown",
   "id": "ba0793b4",
   "metadata": {
    "papermill": {
     "duration": 0.003442,
     "end_time": "2025-06-09T15:54:09.788482",
     "exception": false,
     "start_time": "2025-06-09T15:54:09.785040",
     "status": "completed"
    },
    "tags": []
   },
   "source": [
    "# Encode gesture (our target)\n",
    "* Save encodings to file (in case we want to use model in another notebook)"
   ]
  },
  {
   "cell_type": "code",
   "execution_count": 3,
   "id": "f8063775",
   "metadata": {
    "execution": {
     "iopub.execute_input": "2025-06-09T15:54:09.796418Z",
     "iopub.status.busy": "2025-06-09T15:54:09.796196Z",
     "iopub.status.idle": "2025-06-09T15:54:09.898565Z",
     "shell.execute_reply": "2025-06-09T15:54:09.897712Z"
    },
    "papermill": {
     "duration": 0.107626,
     "end_time": "2025-06-09T15:54:09.899671",
     "exception": false,
     "start_time": "2025-06-09T15:54:09.792045",
     "status": "completed"
    },
    "tags": []
   },
   "outputs": [
    {
     "name": "stdout",
     "output_type": "stream",
     "text": [
      "Gesture label mapping:\n",
      "  0: Above ear - pull hair\n",
      "  1: Cheek - pinch skin\n",
      "  2: Drink from bottle/cup\n",
      "  3: Eyebrow - pull hair\n",
      "  4: Eyelash - pull hair\n",
      "  5: Feel around in tray and pull out an object\n",
      "  6: Forehead - pull hairline\n",
      "  7: Forehead - scratch\n",
      "  8: Glasses on/off\n",
      "  9: Neck - pinch skin\n",
      "  10: Neck - scratch\n",
      "  11: Pinch knee/leg skin\n",
      "  12: Pull air toward your face\n",
      "  13: Scratch knee/leg skin\n",
      "  14: Text on phone\n",
      "  15: Wave hello\n",
      "  16: Write name in air\n",
      "  17: Write name on leg\n"
     ]
    }
   ],
   "source": [
    "label_encoder = LabelEncoder()\n",
    "df['gesture'] = label_encoder.fit_transform(df['gesture'].astype(str))\n",
    "\n",
    "# Save class names for inference\n",
    "np.save('gesture_classes.npy', label_encoder.classes_)\n",
    "\n",
    "# Print class label mapping\n",
    "print(\"Gesture label mapping:\")\n",
    "for idx, label in enumerate(label_encoder.classes_):\n",
    "    print(f\"  {idx}: {label}\")"
   ]
  },
  {
   "cell_type": "markdown",
   "id": "1e28b2d7",
   "metadata": {
    "papermill": {
     "duration": 0.003612,
     "end_time": "2025-06-09T15:54:09.907207",
     "exception": false,
     "start_time": "2025-06-09T15:54:09.903595",
     "status": "completed"
    },
    "tags": []
   },
   "source": [
    "# 50% of Hidden Test Set is IMU-only!\n",
    "* \"Half of the hidden-test sequences are recorded with IMU only; the thermopile (thm_) and time-of-flight (tof__v*) columns are still present but contain null values for those sequences.\"\n",
    "* https://www.kaggle.com/competitions/cmi-detect-behavior-with-sensor-data/data\n",
    "* Is our train data like that?  **NO!**"
   ]
  },
  {
   "cell_type": "code",
   "execution_count": 4,
   "id": "099360c4",
   "metadata": {
    "execution": {
     "iopub.execute_input": "2025-06-09T15:54:09.915383Z",
     "iopub.status.busy": "2025-06-09T15:54:09.914904Z",
     "iopub.status.idle": "2025-06-09T15:54:11.458256Z",
     "shell.execute_reply": "2025-06-09T15:54:11.457325Z"
    },
    "papermill": {
     "duration": 1.548652,
     "end_time": "2025-06-09T15:54:11.459448",
     "exception": false,
     "start_time": "2025-06-09T15:54:09.910796",
     "status": "completed"
    },
    "tags": []
   },
   "outputs": [
    {
     "name": "stdout",
     "output_type": "stream",
     "text": [
      "Checking for IMU-only sequences...\n",
      "Total sequences: 8151\n",
      "IMU-only sequences (all thm_/tof_ null): 96 (1.2%)\n"
     ]
    }
   ],
   "source": [
    "print(\"Checking for IMU-only sequences...\")\n",
    "\n",
    "def check_for_imu_only_seqs():\n",
    "    # Identify thermopile and TOF columns\n",
    "    thermal_tof_cols = [col for col in df.columns if col.startswith('thm_') or col.startswith('tof_')]\n",
    "    \n",
    "    # Group by sequence and check if all thm_/tof_ values are null\n",
    "    imu_only_flags = df[thermal_tof_cols].isna().groupby(df['sequence_id']).all().all(axis=1)\n",
    "    \n",
    "    # Report statistics\n",
    "    total_sequences = df['sequence_id'].nunique()\n",
    "    imu_only_count = imu_only_flags.sum()\n",
    "    imu_only_pct = (imu_only_count / total_sequences) * 100\n",
    "    \n",
    "    print(f\"Total sequences: {total_sequences}\")\n",
    "    print(f\"IMU-only sequences (all thm_/tof_ null): {imu_only_count} ({imu_only_pct:.1f}%)\")\n",
    "\n",
    "check_for_imu_only_seqs()"
   ]
  },
  {
   "cell_type": "markdown",
   "id": "47894fa6",
   "metadata": {
    "papermill": {
     "duration": 0.003747,
     "end_time": "2025-06-09T15:54:11.467325",
     "exception": false,
     "start_time": "2025-06-09T15:54:11.463578",
     "status": "completed"
    },
    "tags": []
   },
   "source": [
    "# Define Feature Columns (IMU-only)\n",
    "* Exclude train-only data"
   ]
  },
  {
   "cell_type": "code",
   "execution_count": 5,
   "id": "102b5c30",
   "metadata": {
    "execution": {
     "iopub.execute_input": "2025-06-09T15:54:11.475816Z",
     "iopub.status.busy": "2025-06-09T15:54:11.475331Z",
     "iopub.status.idle": "2025-06-09T15:54:11.480367Z",
     "shell.execute_reply": "2025-06-09T15:54:11.479594Z"
    },
    "papermill": {
     "duration": 0.010455,
     "end_time": "2025-06-09T15:54:11.481440",
     "exception": false,
     "start_time": "2025-06-09T15:54:11.470985",
     "status": "completed"
    },
    "tags": []
   },
   "outputs": [
    {
     "name": "stdout",
     "output_type": "stream",
     "text": [
      "Ignoring 325 thermopile / time-of-flight columns.\n",
      "Using 7 numeric feature columns for training:\n",
      "['acc_x', 'acc_y', 'acc_z', 'rot_w', 'rot_x', 'rot_y', 'rot_z']\n"
     ]
    }
   ],
   "source": [
    "excluded_cols = {\n",
    "    'gesture', 'sequence_type', 'behavior', 'orientation',  # train-only\n",
    "    'row_id', 'subject', 'phase',  # metadata\n",
    "    'sequence_id', 'sequence_counter'  # identifiers\n",
    "}\n",
    "\n",
    "# Setting this true makes model ignore thermal and tof data\n",
    "drop_thermal_and_tof = True\n",
    "\n",
    "if drop_thermal_and_tof:\n",
    "    thermal_tof_cols = [col for col in df.columns if col.startswith('thm_') or col.startswith('tof_')]\n",
    "    excluded_cols.update(thermal_tof_cols)\n",
    "    print(f\"Ignoring {len(thermal_tof_cols)} thermopile / time-of-flight columns.\")\n",
    "\n",
    "# Select numeric feature columns\n",
    "feature_cols = [col for col in df.columns if col not in excluded_cols]\n",
    "print(f\"Using {len(feature_cols)} numeric feature columns for training:\")\n",
    "print(feature_cols)"
   ]
  },
  {
   "cell_type": "markdown",
   "id": "13cd3083",
   "metadata": {
    "papermill": {
     "duration": 0.003536,
     "end_time": "2025-06-09T15:54:11.488689",
     "exception": false,
     "start_time": "2025-06-09T15:54:11.485153",
     "status": "completed"
    },
    "tags": []
   },
   "source": [
    "# Check for Missing Values\n",
    "* Yup - there are a bunch - we'll take care of these..."
   ]
  },
  {
   "cell_type": "code",
   "execution_count": 6,
   "id": "d9333ba5",
   "metadata": {
    "execution": {
     "iopub.execute_input": "2025-06-09T15:54:11.497895Z",
     "iopub.status.busy": "2025-06-09T15:54:11.497381Z",
     "iopub.status.idle": "2025-06-09T15:54:11.521831Z",
     "shell.execute_reply": "2025-06-09T15:54:11.520739Z"
    },
    "papermill": {
     "duration": 0.030789,
     "end_time": "2025-06-09T15:54:11.523170",
     "exception": false,
     "start_time": "2025-06-09T15:54:11.492381",
     "status": "completed"
    },
    "tags": []
   },
   "outputs": [
    {
     "name": "stdout",
     "output_type": "stream",
     "text": [
      "\n",
      "Total missing values in feature columns: 14768\n",
      "Columns with missing values:\n",
      "rot_w    3692\n",
      "rot_x    3692\n",
      "rot_y    3692\n",
      "rot_z    3692\n",
      "dtype: int64\n"
     ]
    }
   ],
   "source": [
    "# Check for NaNs in selected feature columns\n",
    "nan_counts = df[feature_cols].isna().sum()\n",
    "total_nans = nan_counts.sum()\n",
    "print(f\"\\nTotal missing values in feature columns: {total_nans}\")\n",
    "if total_nans > 0:\n",
    "    print(\"Columns with missing values:\")\n",
    "    print(nan_counts[nan_counts > 0])\n",
    "else:\n",
    "    print(\"No missing values found in feature columns.\")"
   ]
  },
  {
   "cell_type": "markdown",
   "id": "9854e8e4",
   "metadata": {
    "papermill": {
     "duration": 0.003815,
     "end_time": "2025-06-09T15:54:11.531117",
     "exception": false,
     "start_time": "2025-06-09T15:54:11.527302",
     "status": "completed"
    },
    "tags": []
   },
   "source": [
    "# Pre-process data: scale and simple impute\n",
    "* Fill missing values: forward-fill, then back-fill, then fill remaining with 0\n",
    "* Scale features to zero mean and unit variance\n",
    "* We call this function as part of building input sequences and doing inference"
   ]
  },
  {
   "cell_type": "code",
   "execution_count": 7,
   "id": "49eb31b1",
   "metadata": {
    "execution": {
     "iopub.execute_input": "2025-06-09T15:54:11.539765Z",
     "iopub.status.busy": "2025-06-09T15:54:11.539530Z",
     "iopub.status.idle": "2025-06-09T15:54:11.543370Z",
     "shell.execute_reply": "2025-06-09T15:54:11.542675Z"
    },
    "papermill": {
     "duration": 0.009417,
     "end_time": "2025-06-09T15:54:11.544470",
     "exception": false,
     "start_time": "2025-06-09T15:54:11.535053",
     "status": "completed"
    },
    "tags": []
   },
   "outputs": [],
   "source": [
    "def preprocess_sequence(df_sequence: pd.DataFrame, feature_cols: list) -> np.ndarray:\n",
    "    data = df_sequence[feature_cols].copy()\n",
    "    data = data.ffill().bfill().fillna(0)\n",
    "    scaled = StandardScaler().fit_transform(data)\n",
    "    return scaled"
   ]
  },
  {
   "cell_type": "markdown",
   "id": "3fba51b0",
   "metadata": {
    "papermill": {
     "duration": 0.003639,
     "end_time": "2025-06-09T15:54:11.551974",
     "exception": false,
     "start_time": "2025-06-09T15:54:11.548335",
     "status": "completed"
    },
    "tags": []
   },
   "source": [
    "# Build input sequences\n",
    "* All sequences must be the same length to train the model\n",
    "* Pad or truncate to a length that covers 90% of sequence lengths\n",
    "* This defines the fixed input size for our 1D CNN"
   ]
  },
  {
   "cell_type": "code",
   "execution_count": 8,
   "id": "e20db712",
   "metadata": {
    "execution": {
     "iopub.execute_input": "2025-06-09T15:54:11.560917Z",
     "iopub.status.busy": "2025-06-09T15:54:11.560442Z",
     "iopub.status.idle": "2025-06-09T15:54:29.986990Z",
     "shell.execute_reply": "2025-06-09T15:54:29.986031Z"
    },
    "papermill": {
     "duration": 18.432486,
     "end_time": "2025-06-09T15:54:29.988263",
     "exception": false,
     "start_time": "2025-06-09T15:54:11.555777",
     "status": "completed"
    },
    "tags": []
   },
   "outputs": [
    {
     "name": "stdout",
     "output_type": "stream",
     "text": [
      "Building sequences...\n",
      "Processing sequence 0...\n",
      "Processing sequence 500...\n",
      "Processing sequence 1000...\n",
      "Processing sequence 1500...\n",
      "Processing sequence 2000...\n",
      "Processing sequence 2500...\n",
      "Processing sequence 3000...\n",
      "Processing sequence 3500...\n",
      "Processing sequence 4000...\n",
      "Processing sequence 4500...\n",
      "Processing sequence 5000...\n",
      "Processing sequence 5500...\n",
      "Processing sequence 6000...\n",
      "Processing sequence 6500...\n",
      "Processing sequence 7000...\n",
      "Processing sequence 7500...\n",
      "Processing sequence 8000...\n",
      "Sequence length stats - Min: 29, Avg: 70, 90th percentile: 103\n",
      "Padding / truncating all sequences to fixed length 103...\n"
     ]
    }
   ],
   "source": [
    "# Build sequences\n",
    "sequence_ids = df['sequence_id'].unique()\n",
    "sequences = df.groupby('sequence_id')\n",
    "\n",
    "X = []\n",
    "seq_lengths = []\n",
    "\n",
    "print(\"Building sequences...\")\n",
    "for i, (seq_id, seq) in enumerate(sequences):\n",
    "    if i % 500 == 0:\n",
    "        print(f\"Processing sequence {i}...\")\n",
    "    processed = preprocess_sequence(seq, feature_cols)\n",
    "    X.append(processed)\n",
    "    seq_lengths.append(processed.shape[0])\n",
    "\n",
    "max_len_perentile = 90\n",
    "\n",
    "# Report sequence length stats\n",
    "minlen = min(seq_lengths)\n",
    "avglen = int(np.mean(seq_lengths))\n",
    "pad_len_to_use = int(np.percentile(seq_lengths, max_len_perentile))  \n",
    "print(f\"Sequence length stats - Min: {minlen}, Avg: {avglen}, {max_len_perentile}th percentile: {pad_len_to_use}\")\n",
    "print(f\"Padding / truncating all sequences to fixed length {pad_len_to_use}...\")\n",
    "\n",
    "np.save(\"sequence_maxlen.npy\", pad_len_to_use)  # Save for inference\n",
    "\n",
    "# Pad/truncate to fixed length\n",
    "X = pad_sequences(X, maxlen=pad_len_to_use, dtype='float32', padding='post', truncating='post')"
   ]
  },
  {
   "cell_type": "markdown",
   "id": "4635561d",
   "metadata": {
    "papermill": {
     "duration": 0.004645,
     "end_time": "2025-06-09T15:54:29.998122",
     "exception": false,
     "start_time": "2025-06-09T15:54:29.993477",
     "status": "completed"
    },
    "tags": []
   },
   "source": [
    "# Prepare target labels as one-hot vectors\n",
    "* Use the first gesture label from each sequence as its target class (already converted to integer earlier)\n",
    "* Convert integer class labels to one-hot vectors for training (required for categorical cross-entropy)\n",
    "* The number of unique labels defines the model's output layer size"
   ]
  },
  {
   "cell_type": "code",
   "execution_count": 9,
   "id": "c25d04dc",
   "metadata": {
    "execution": {
     "iopub.execute_input": "2025-06-09T15:54:30.008284Z",
     "iopub.status.busy": "2025-06-09T15:54:30.007993Z",
     "iopub.status.idle": "2025-06-09T15:54:30.049298Z",
     "shell.execute_reply": "2025-06-09T15:54:30.048474Z"
    },
    "papermill": {
     "duration": 0.047782,
     "end_time": "2025-06-09T15:54:30.050495",
     "exception": false,
     "start_time": "2025-06-09T15:54:30.002713",
     "status": "completed"
    },
    "tags": []
   },
   "outputs": [
    {
     "name": "stdout",
     "output_type": "stream",
     "text": [
      "Integer labels: [ 1  6  1 17]\n",
      "After one-hot encoding: [[0. 1. 0. 0. 0. 0. 0. 0. 0. 0. 0. 0. 0. 0. 0. 0. 0. 0.]\n",
      " [0. 0. 0. 0. 0. 0. 1. 0. 0. 0. 0. 0. 0. 0. 0. 0. 0. 0.]\n",
      " [0. 1. 0. 0. 0. 0. 0. 0. 0. 0. 0. 0. 0. 0. 0. 0. 0. 0.]\n",
      " [0. 0. 0. 0. 0. 0. 0. 0. 0. 0. 0. 0. 0. 0. 0. 0. 0. 1.]]\n"
     ]
    }
   ],
   "source": [
    "# Use groupby to get the first gesture per sequence (already integer-encoded)\n",
    "y = df.groupby('sequence_id')['gesture'].first().values\n",
    "\n",
    "print(\"Integer labels:\", y[:4])\n",
    "\n",
    "# Convert to one-hot vectors\n",
    "num_classes = len(np.unique(y))\n",
    "y = to_categorical(y, num_classes=num_classes)\n",
    "\n",
    "print(\"After one-hot encoding:\", y[:4])"
   ]
  },
  {
   "cell_type": "markdown",
   "id": "cb28eaf8",
   "metadata": {
    "papermill": {
     "duration": 0.004619,
     "end_time": "2025-06-09T15:54:30.060415",
     "exception": false,
     "start_time": "2025-06-09T15:54:30.055796",
     "status": "completed"
    },
    "tags": []
   },
   "source": [
    "# Train / test split"
   ]
  },
  {
   "cell_type": "code",
   "execution_count": 10,
   "id": "db7125d2",
   "metadata": {
    "execution": {
     "iopub.execute_input": "2025-06-09T15:54:30.070675Z",
     "iopub.status.busy": "2025-06-09T15:54:30.070447Z",
     "iopub.status.idle": "2025-06-09T15:54:30.080148Z",
     "shell.execute_reply": "2025-06-09T15:54:30.079611Z"
    },
    "papermill": {
     "duration": 0.01586,
     "end_time": "2025-06-09T15:54:30.081134",
     "exception": false,
     "start_time": "2025-06-09T15:54:30.065274",
     "status": "completed"
    },
    "tags": []
   },
   "outputs": [],
   "source": [
    "X_train, X_val, y_train, y_val = train_test_split(X, y, test_size=0.2, random_state=SEED)"
   ]
  },
  {
   "cell_type": "markdown",
   "id": "896339e3",
   "metadata": {
    "papermill": {
     "duration": 0.004251,
     "end_time": "2025-06-09T15:54:30.089934",
     "exception": false,
     "start_time": "2025-06-09T15:54:30.085683",
     "status": "completed"
    },
    "tags": []
   },
   "source": [
    "# Build, compile, and train 1D CNN model\n",
    "* Use Conv1D layers to extract temporal patterns from sensor sequences\n",
    "* Each Conv1D layer uses:\n",
    "  - `kernel_size` to define the number of time steps it looks at (temporal window)\n",
    "  - `filters` to define how many distinct patterns it tries to learn at each layer\n",
    "* Apply max pooling and dropout for regularization and dimensionality reduction\n",
    "* Flatten and pass through dense layers for final classification\n",
    "* Save trained model to disk for inference"
   ]
  },
  {
   "cell_type": "code",
   "execution_count": 11,
   "id": "a595ff4e",
   "metadata": {
    "execution": {
     "iopub.execute_input": "2025-06-09T15:54:30.099726Z",
     "iopub.status.busy": "2025-06-09T15:54:30.099509Z",
     "iopub.status.idle": "2025-06-09T15:58:28.994956Z",
     "shell.execute_reply": "2025-06-09T15:58:28.994072Z"
    },
    "papermill": {
     "duration": 238.901745,
     "end_time": "2025-06-09T15:58:28.996201",
     "exception": false,
     "start_time": "2025-06-09T15:54:30.094456",
     "status": "completed"
    },
    "tags": []
   },
   "outputs": [
    {
     "name": "stderr",
     "output_type": "stream",
     "text": [
      "/usr/local/lib/python3.11/dist-packages/keras/src/layers/convolutional/base_conv.py:107: UserWarning: Do not pass an `input_shape`/`input_dim` argument to a layer. When using Sequential models, prefer using an `Input(shape)` object as the first layer in the model instead.\n",
      "  super().__init__(activity_regularizer=activity_regularizer, **kwargs)\n",
      "I0000 00:00:1749484471.296249      19 gpu_device.cc:2022] Created device /job:localhost/replica:0/task:0/device:GPU:0 with 15513 MB memory:  -> device: 0, name: Tesla P100-PCIE-16GB, pci bus id: 0000:00:04.0, compute capability: 6.0\n"
     ]
    },
    {
     "data": {
      "text/html": [
       "<pre style=\"white-space:pre;overflow-x:auto;line-height:normal;font-family:Menlo,'DejaVu Sans Mono',consolas,'Courier New',monospace\"><span style=\"font-weight: bold\">Model: \"sequential\"</span>\n",
       "</pre>\n"
      ],
      "text/plain": [
       "\u001b[1mModel: \"sequential\"\u001b[0m\n"
      ]
     },
     "metadata": {},
     "output_type": "display_data"
    },
    {
     "data": {
      "text/html": [
       "<pre style=\"white-space:pre;overflow-x:auto;line-height:normal;font-family:Menlo,'DejaVu Sans Mono',consolas,'Courier New',monospace\">┏━━━━━━━━━━━━━━━━━━━━━━━━━━━━━━━━━━━━━━┳━━━━━━━━━━━━━━━━━━━━━━━━━━━━━┳━━━━━━━━━━━━━━━━━┓\n",
       "┃<span style=\"font-weight: bold\"> Layer (type)                         </span>┃<span style=\"font-weight: bold\"> Output Shape                </span>┃<span style=\"font-weight: bold\">         Param # </span>┃\n",
       "┡━━━━━━━━━━━━━━━━━━━━━━━━━━━━━━━━━━━━━━╇━━━━━━━━━━━━━━━━━━━━━━━━━━━━━╇━━━━━━━━━━━━━━━━━┩\n",
       "│ conv1d (<span style=\"color: #0087ff; text-decoration-color: #0087ff\">Conv1D</span>)                      │ (<span style=\"color: #00d7ff; text-decoration-color: #00d7ff\">None</span>, <span style=\"color: #00af00; text-decoration-color: #00af00\">97</span>, <span style=\"color: #00af00; text-decoration-color: #00af00\">512</span>)             │          <span style=\"color: #00af00; text-decoration-color: #00af00\">25,600</span> │\n",
       "├──────────────────────────────────────┼─────────────────────────────┼─────────────────┤\n",
       "│ batch_normalization                  │ (<span style=\"color: #00d7ff; text-decoration-color: #00d7ff\">None</span>, <span style=\"color: #00af00; text-decoration-color: #00af00\">97</span>, <span style=\"color: #00af00; text-decoration-color: #00af00\">512</span>)             │           <span style=\"color: #00af00; text-decoration-color: #00af00\">2,048</span> │\n",
       "│ (<span style=\"color: #0087ff; text-decoration-color: #0087ff\">BatchNormalization</span>)                 │                             │                 │\n",
       "├──────────────────────────────────────┼─────────────────────────────┼─────────────────┤\n",
       "│ max_pooling1d (<span style=\"color: #0087ff; text-decoration-color: #0087ff\">MaxPooling1D</span>)         │ (<span style=\"color: #00d7ff; text-decoration-color: #00d7ff\">None</span>, <span style=\"color: #00af00; text-decoration-color: #00af00\">48</span>, <span style=\"color: #00af00; text-decoration-color: #00af00\">512</span>)             │               <span style=\"color: #00af00; text-decoration-color: #00af00\">0</span> │\n",
       "├──────────────────────────────────────┼─────────────────────────────┼─────────────────┤\n",
       "│ dropout (<span style=\"color: #0087ff; text-decoration-color: #0087ff\">Dropout</span>)                    │ (<span style=\"color: #00d7ff; text-decoration-color: #00d7ff\">None</span>, <span style=\"color: #00af00; text-decoration-color: #00af00\">48</span>, <span style=\"color: #00af00; text-decoration-color: #00af00\">512</span>)             │               <span style=\"color: #00af00; text-decoration-color: #00af00\">0</span> │\n",
       "├──────────────────────────────────────┼─────────────────────────────┼─────────────────┤\n",
       "│ conv1d_1 (<span style=\"color: #0087ff; text-decoration-color: #0087ff\">Conv1D</span>)                    │ (<span style=\"color: #00d7ff; text-decoration-color: #00d7ff\">None</span>, <span style=\"color: #00af00; text-decoration-color: #00af00\">44</span>, <span style=\"color: #00af00; text-decoration-color: #00af00\">768</span>)             │       <span style=\"color: #00af00; text-decoration-color: #00af00\">1,966,848</span> │\n",
       "├──────────────────────────────────────┼─────────────────────────────┼─────────────────┤\n",
       "│ batch_normalization_1                │ (<span style=\"color: #00d7ff; text-decoration-color: #00d7ff\">None</span>, <span style=\"color: #00af00; text-decoration-color: #00af00\">44</span>, <span style=\"color: #00af00; text-decoration-color: #00af00\">768</span>)             │           <span style=\"color: #00af00; text-decoration-color: #00af00\">3,072</span> │\n",
       "│ (<span style=\"color: #0087ff; text-decoration-color: #0087ff\">BatchNormalization</span>)                 │                             │                 │\n",
       "├──────────────────────────────────────┼─────────────────────────────┼─────────────────┤\n",
       "│ max_pooling1d_1 (<span style=\"color: #0087ff; text-decoration-color: #0087ff\">MaxPooling1D</span>)       │ (<span style=\"color: #00d7ff; text-decoration-color: #00d7ff\">None</span>, <span style=\"color: #00af00; text-decoration-color: #00af00\">22</span>, <span style=\"color: #00af00; text-decoration-color: #00af00\">768</span>)             │               <span style=\"color: #00af00; text-decoration-color: #00af00\">0</span> │\n",
       "├──────────────────────────────────────┼─────────────────────────────┼─────────────────┤\n",
       "│ dropout_1 (<span style=\"color: #0087ff; text-decoration-color: #0087ff\">Dropout</span>)                  │ (<span style=\"color: #00d7ff; text-decoration-color: #00d7ff\">None</span>, <span style=\"color: #00af00; text-decoration-color: #00af00\">22</span>, <span style=\"color: #00af00; text-decoration-color: #00af00\">768</span>)             │               <span style=\"color: #00af00; text-decoration-color: #00af00\">0</span> │\n",
       "├──────────────────────────────────────┼─────────────────────────────┼─────────────────┤\n",
       "│ conv1d_2 (<span style=\"color: #0087ff; text-decoration-color: #0087ff\">Conv1D</span>)                    │ (<span style=\"color: #00d7ff; text-decoration-color: #00d7ff\">None</span>, <span style=\"color: #00af00; text-decoration-color: #00af00\">20</span>, <span style=\"color: #00af00; text-decoration-color: #00af00\">1024</span>)            │       <span style=\"color: #00af00; text-decoration-color: #00af00\">2,360,320</span> │\n",
       "├──────────────────────────────────────┼─────────────────────────────┼─────────────────┤\n",
       "│ batch_normalization_2                │ (<span style=\"color: #00d7ff; text-decoration-color: #00d7ff\">None</span>, <span style=\"color: #00af00; text-decoration-color: #00af00\">20</span>, <span style=\"color: #00af00; text-decoration-color: #00af00\">1024</span>)            │           <span style=\"color: #00af00; text-decoration-color: #00af00\">4,096</span> │\n",
       "│ (<span style=\"color: #0087ff; text-decoration-color: #0087ff\">BatchNormalization</span>)                 │                             │                 │\n",
       "├──────────────────────────────────────┼─────────────────────────────┼─────────────────┤\n",
       "│ max_pooling1d_2 (<span style=\"color: #0087ff; text-decoration-color: #0087ff\">MaxPooling1D</span>)       │ (<span style=\"color: #00d7ff; text-decoration-color: #00d7ff\">None</span>, <span style=\"color: #00af00; text-decoration-color: #00af00\">10</span>, <span style=\"color: #00af00; text-decoration-color: #00af00\">1024</span>)            │               <span style=\"color: #00af00; text-decoration-color: #00af00\">0</span> │\n",
       "├──────────────────────────────────────┼─────────────────────────────┼─────────────────┤\n",
       "│ dropout_2 (<span style=\"color: #0087ff; text-decoration-color: #0087ff\">Dropout</span>)                  │ (<span style=\"color: #00d7ff; text-decoration-color: #00d7ff\">None</span>, <span style=\"color: #00af00; text-decoration-color: #00af00\">10</span>, <span style=\"color: #00af00; text-decoration-color: #00af00\">1024</span>)            │               <span style=\"color: #00af00; text-decoration-color: #00af00\">0</span> │\n",
       "├──────────────────────────────────────┼─────────────────────────────┼─────────────────┤\n",
       "│ conv1d_3 (<span style=\"color: #0087ff; text-decoration-color: #0087ff\">Conv1D</span>)                    │ (<span style=\"color: #00d7ff; text-decoration-color: #00d7ff\">None</span>, <span style=\"color: #00af00; text-decoration-color: #00af00\">8</span>, <span style=\"color: #00af00; text-decoration-color: #00af00\">1536</span>)             │       <span style=\"color: #00af00; text-decoration-color: #00af00\">4,720,128</span> │\n",
       "├──────────────────────────────────────┼─────────────────────────────┼─────────────────┤\n",
       "│ batch_normalization_3                │ (<span style=\"color: #00d7ff; text-decoration-color: #00d7ff\">None</span>, <span style=\"color: #00af00; text-decoration-color: #00af00\">8</span>, <span style=\"color: #00af00; text-decoration-color: #00af00\">1536</span>)             │           <span style=\"color: #00af00; text-decoration-color: #00af00\">6,144</span> │\n",
       "│ (<span style=\"color: #0087ff; text-decoration-color: #0087ff\">BatchNormalization</span>)                 │                             │                 │\n",
       "├──────────────────────────────────────┼─────────────────────────────┼─────────────────┤\n",
       "│ max_pooling1d_3 (<span style=\"color: #0087ff; text-decoration-color: #0087ff\">MaxPooling1D</span>)       │ (<span style=\"color: #00d7ff; text-decoration-color: #00d7ff\">None</span>, <span style=\"color: #00af00; text-decoration-color: #00af00\">4</span>, <span style=\"color: #00af00; text-decoration-color: #00af00\">1536</span>)             │               <span style=\"color: #00af00; text-decoration-color: #00af00\">0</span> │\n",
       "├──────────────────────────────────────┼─────────────────────────────┼─────────────────┤\n",
       "│ dropout_3 (<span style=\"color: #0087ff; text-decoration-color: #0087ff\">Dropout</span>)                  │ (<span style=\"color: #00d7ff; text-decoration-color: #00d7ff\">None</span>, <span style=\"color: #00af00; text-decoration-color: #00af00\">4</span>, <span style=\"color: #00af00; text-decoration-color: #00af00\">1536</span>)             │               <span style=\"color: #00af00; text-decoration-color: #00af00\">0</span> │\n",
       "├──────────────────────────────────────┼─────────────────────────────┼─────────────────┤\n",
       "│ conv1d_4 (<span style=\"color: #0087ff; text-decoration-color: #0087ff\">Conv1D</span>)                    │ (<span style=\"color: #00d7ff; text-decoration-color: #00d7ff\">None</span>, <span style=\"color: #00af00; text-decoration-color: #00af00\">2</span>, <span style=\"color: #00af00; text-decoration-color: #00af00\">2048</span>)             │       <span style=\"color: #00af00; text-decoration-color: #00af00\">9,439,232</span> │\n",
       "├──────────────────────────────────────┼─────────────────────────────┼─────────────────┤\n",
       "│ batch_normalization_4                │ (<span style=\"color: #00d7ff; text-decoration-color: #00d7ff\">None</span>, <span style=\"color: #00af00; text-decoration-color: #00af00\">2</span>, <span style=\"color: #00af00; text-decoration-color: #00af00\">2048</span>)             │           <span style=\"color: #00af00; text-decoration-color: #00af00\">8,192</span> │\n",
       "│ (<span style=\"color: #0087ff; text-decoration-color: #0087ff\">BatchNormalization</span>)                 │                             │                 │\n",
       "├──────────────────────────────────────┼─────────────────────────────┼─────────────────┤\n",
       "│ global_max_pooling1d                 │ (<span style=\"color: #00d7ff; text-decoration-color: #00d7ff\">None</span>, <span style=\"color: #00af00; text-decoration-color: #00af00\">2048</span>)                │               <span style=\"color: #00af00; text-decoration-color: #00af00\">0</span> │\n",
       "│ (<span style=\"color: #0087ff; text-decoration-color: #0087ff\">GlobalMaxPooling1D</span>)                 │                             │                 │\n",
       "├──────────────────────────────────────┼─────────────────────────────┼─────────────────┤\n",
       "│ dropout_4 (<span style=\"color: #0087ff; text-decoration-color: #0087ff\">Dropout</span>)                  │ (<span style=\"color: #00d7ff; text-decoration-color: #00d7ff\">None</span>, <span style=\"color: #00af00; text-decoration-color: #00af00\">2048</span>)                │               <span style=\"color: #00af00; text-decoration-color: #00af00\">0</span> │\n",
       "├──────────────────────────────────────┼─────────────────────────────┼─────────────────┤\n",
       "│ dense (<span style=\"color: #0087ff; text-decoration-color: #0087ff\">Dense</span>)                        │ (<span style=\"color: #00d7ff; text-decoration-color: #00d7ff\">None</span>, <span style=\"color: #00af00; text-decoration-color: #00af00\">2048</span>)                │       <span style=\"color: #00af00; text-decoration-color: #00af00\">4,196,352</span> │\n",
       "├──────────────────────────────────────┼─────────────────────────────┼─────────────────┤\n",
       "│ dropout_5 (<span style=\"color: #0087ff; text-decoration-color: #0087ff\">Dropout</span>)                  │ (<span style=\"color: #00d7ff; text-decoration-color: #00d7ff\">None</span>, <span style=\"color: #00af00; text-decoration-color: #00af00\">2048</span>)                │               <span style=\"color: #00af00; text-decoration-color: #00af00\">0</span> │\n",
       "├──────────────────────────────────────┼─────────────────────────────┼─────────────────┤\n",
       "│ dense_1 (<span style=\"color: #0087ff; text-decoration-color: #0087ff\">Dense</span>)                      │ (<span style=\"color: #00d7ff; text-decoration-color: #00d7ff\">None</span>, <span style=\"color: #00af00; text-decoration-color: #00af00\">1024</span>)                │       <span style=\"color: #00af00; text-decoration-color: #00af00\">2,098,176</span> │\n",
       "├──────────────────────────────────────┼─────────────────────────────┼─────────────────┤\n",
       "│ dropout_6 (<span style=\"color: #0087ff; text-decoration-color: #0087ff\">Dropout</span>)                  │ (<span style=\"color: #00d7ff; text-decoration-color: #00d7ff\">None</span>, <span style=\"color: #00af00; text-decoration-color: #00af00\">1024</span>)                │               <span style=\"color: #00af00; text-decoration-color: #00af00\">0</span> │\n",
       "├──────────────────────────────────────┼─────────────────────────────┼─────────────────┤\n",
       "│ dense_2 (<span style=\"color: #0087ff; text-decoration-color: #0087ff\">Dense</span>)                      │ (<span style=\"color: #00d7ff; text-decoration-color: #00d7ff\">None</span>, <span style=\"color: #00af00; text-decoration-color: #00af00\">512</span>)                 │         <span style=\"color: #00af00; text-decoration-color: #00af00\">524,800</span> │\n",
       "├──────────────────────────────────────┼─────────────────────────────┼─────────────────┤\n",
       "│ dropout_7 (<span style=\"color: #0087ff; text-decoration-color: #0087ff\">Dropout</span>)                  │ (<span style=\"color: #00d7ff; text-decoration-color: #00d7ff\">None</span>, <span style=\"color: #00af00; text-decoration-color: #00af00\">512</span>)                 │               <span style=\"color: #00af00; text-decoration-color: #00af00\">0</span> │\n",
       "├──────────────────────────────────────┼─────────────────────────────┼─────────────────┤\n",
       "│ dense_3 (<span style=\"color: #0087ff; text-decoration-color: #0087ff\">Dense</span>)                      │ (<span style=\"color: #00d7ff; text-decoration-color: #00d7ff\">None</span>, <span style=\"color: #00af00; text-decoration-color: #00af00\">18</span>)                  │           <span style=\"color: #00af00; text-decoration-color: #00af00\">9,234</span> │\n",
       "└──────────────────────────────────────┴─────────────────────────────┴─────────────────┘\n",
       "</pre>\n"
      ],
      "text/plain": [
       "┏━━━━━━━━━━━━━━━━━━━━━━━━━━━━━━━━━━━━━━┳━━━━━━━━━━━━━━━━━━━━━━━━━━━━━┳━━━━━━━━━━━━━━━━━┓\n",
       "┃\u001b[1m \u001b[0m\u001b[1mLayer (type)                        \u001b[0m\u001b[1m \u001b[0m┃\u001b[1m \u001b[0m\u001b[1mOutput Shape               \u001b[0m\u001b[1m \u001b[0m┃\u001b[1m \u001b[0m\u001b[1m        Param #\u001b[0m\u001b[1m \u001b[0m┃\n",
       "┡━━━━━━━━━━━━━━━━━━━━━━━━━━━━━━━━━━━━━━╇━━━━━━━━━━━━━━━━━━━━━━━━━━━━━╇━━━━━━━━━━━━━━━━━┩\n",
       "│ conv1d (\u001b[38;5;33mConv1D\u001b[0m)                      │ (\u001b[38;5;45mNone\u001b[0m, \u001b[38;5;34m97\u001b[0m, \u001b[38;5;34m512\u001b[0m)             │          \u001b[38;5;34m25,600\u001b[0m │\n",
       "├──────────────────────────────────────┼─────────────────────────────┼─────────────────┤\n",
       "│ batch_normalization                  │ (\u001b[38;5;45mNone\u001b[0m, \u001b[38;5;34m97\u001b[0m, \u001b[38;5;34m512\u001b[0m)             │           \u001b[38;5;34m2,048\u001b[0m │\n",
       "│ (\u001b[38;5;33mBatchNormalization\u001b[0m)                 │                             │                 │\n",
       "├──────────────────────────────────────┼─────────────────────────────┼─────────────────┤\n",
       "│ max_pooling1d (\u001b[38;5;33mMaxPooling1D\u001b[0m)         │ (\u001b[38;5;45mNone\u001b[0m, \u001b[38;5;34m48\u001b[0m, \u001b[38;5;34m512\u001b[0m)             │               \u001b[38;5;34m0\u001b[0m │\n",
       "├──────────────────────────────────────┼─────────────────────────────┼─────────────────┤\n",
       "│ dropout (\u001b[38;5;33mDropout\u001b[0m)                    │ (\u001b[38;5;45mNone\u001b[0m, \u001b[38;5;34m48\u001b[0m, \u001b[38;5;34m512\u001b[0m)             │               \u001b[38;5;34m0\u001b[0m │\n",
       "├──────────────────────────────────────┼─────────────────────────────┼─────────────────┤\n",
       "│ conv1d_1 (\u001b[38;5;33mConv1D\u001b[0m)                    │ (\u001b[38;5;45mNone\u001b[0m, \u001b[38;5;34m44\u001b[0m, \u001b[38;5;34m768\u001b[0m)             │       \u001b[38;5;34m1,966,848\u001b[0m │\n",
       "├──────────────────────────────────────┼─────────────────────────────┼─────────────────┤\n",
       "│ batch_normalization_1                │ (\u001b[38;5;45mNone\u001b[0m, \u001b[38;5;34m44\u001b[0m, \u001b[38;5;34m768\u001b[0m)             │           \u001b[38;5;34m3,072\u001b[0m │\n",
       "│ (\u001b[38;5;33mBatchNormalization\u001b[0m)                 │                             │                 │\n",
       "├──────────────────────────────────────┼─────────────────────────────┼─────────────────┤\n",
       "│ max_pooling1d_1 (\u001b[38;5;33mMaxPooling1D\u001b[0m)       │ (\u001b[38;5;45mNone\u001b[0m, \u001b[38;5;34m22\u001b[0m, \u001b[38;5;34m768\u001b[0m)             │               \u001b[38;5;34m0\u001b[0m │\n",
       "├──────────────────────────────────────┼─────────────────────────────┼─────────────────┤\n",
       "│ dropout_1 (\u001b[38;5;33mDropout\u001b[0m)                  │ (\u001b[38;5;45mNone\u001b[0m, \u001b[38;5;34m22\u001b[0m, \u001b[38;5;34m768\u001b[0m)             │               \u001b[38;5;34m0\u001b[0m │\n",
       "├──────────────────────────────────────┼─────────────────────────────┼─────────────────┤\n",
       "│ conv1d_2 (\u001b[38;5;33mConv1D\u001b[0m)                    │ (\u001b[38;5;45mNone\u001b[0m, \u001b[38;5;34m20\u001b[0m, \u001b[38;5;34m1024\u001b[0m)            │       \u001b[38;5;34m2,360,320\u001b[0m │\n",
       "├──────────────────────────────────────┼─────────────────────────────┼─────────────────┤\n",
       "│ batch_normalization_2                │ (\u001b[38;5;45mNone\u001b[0m, \u001b[38;5;34m20\u001b[0m, \u001b[38;5;34m1024\u001b[0m)            │           \u001b[38;5;34m4,096\u001b[0m │\n",
       "│ (\u001b[38;5;33mBatchNormalization\u001b[0m)                 │                             │                 │\n",
       "├──────────────────────────────────────┼─────────────────────────────┼─────────────────┤\n",
       "│ max_pooling1d_2 (\u001b[38;5;33mMaxPooling1D\u001b[0m)       │ (\u001b[38;5;45mNone\u001b[0m, \u001b[38;5;34m10\u001b[0m, \u001b[38;5;34m1024\u001b[0m)            │               \u001b[38;5;34m0\u001b[0m │\n",
       "├──────────────────────────────────────┼─────────────────────────────┼─────────────────┤\n",
       "│ dropout_2 (\u001b[38;5;33mDropout\u001b[0m)                  │ (\u001b[38;5;45mNone\u001b[0m, \u001b[38;5;34m10\u001b[0m, \u001b[38;5;34m1024\u001b[0m)            │               \u001b[38;5;34m0\u001b[0m │\n",
       "├──────────────────────────────────────┼─────────────────────────────┼─────────────────┤\n",
       "│ conv1d_3 (\u001b[38;5;33mConv1D\u001b[0m)                    │ (\u001b[38;5;45mNone\u001b[0m, \u001b[38;5;34m8\u001b[0m, \u001b[38;5;34m1536\u001b[0m)             │       \u001b[38;5;34m4,720,128\u001b[0m │\n",
       "├──────────────────────────────────────┼─────────────────────────────┼─────────────────┤\n",
       "│ batch_normalization_3                │ (\u001b[38;5;45mNone\u001b[0m, \u001b[38;5;34m8\u001b[0m, \u001b[38;5;34m1536\u001b[0m)             │           \u001b[38;5;34m6,144\u001b[0m │\n",
       "│ (\u001b[38;5;33mBatchNormalization\u001b[0m)                 │                             │                 │\n",
       "├──────────────────────────────────────┼─────────────────────────────┼─────────────────┤\n",
       "│ max_pooling1d_3 (\u001b[38;5;33mMaxPooling1D\u001b[0m)       │ (\u001b[38;5;45mNone\u001b[0m, \u001b[38;5;34m4\u001b[0m, \u001b[38;5;34m1536\u001b[0m)             │               \u001b[38;5;34m0\u001b[0m │\n",
       "├──────────────────────────────────────┼─────────────────────────────┼─────────────────┤\n",
       "│ dropout_3 (\u001b[38;5;33mDropout\u001b[0m)                  │ (\u001b[38;5;45mNone\u001b[0m, \u001b[38;5;34m4\u001b[0m, \u001b[38;5;34m1536\u001b[0m)             │               \u001b[38;5;34m0\u001b[0m │\n",
       "├──────────────────────────────────────┼─────────────────────────────┼─────────────────┤\n",
       "│ conv1d_4 (\u001b[38;5;33mConv1D\u001b[0m)                    │ (\u001b[38;5;45mNone\u001b[0m, \u001b[38;5;34m2\u001b[0m, \u001b[38;5;34m2048\u001b[0m)             │       \u001b[38;5;34m9,439,232\u001b[0m │\n",
       "├──────────────────────────────────────┼─────────────────────────────┼─────────────────┤\n",
       "│ batch_normalization_4                │ (\u001b[38;5;45mNone\u001b[0m, \u001b[38;5;34m2\u001b[0m, \u001b[38;5;34m2048\u001b[0m)             │           \u001b[38;5;34m8,192\u001b[0m │\n",
       "│ (\u001b[38;5;33mBatchNormalization\u001b[0m)                 │                             │                 │\n",
       "├──────────────────────────────────────┼─────────────────────────────┼─────────────────┤\n",
       "│ global_max_pooling1d                 │ (\u001b[38;5;45mNone\u001b[0m, \u001b[38;5;34m2048\u001b[0m)                │               \u001b[38;5;34m0\u001b[0m │\n",
       "│ (\u001b[38;5;33mGlobalMaxPooling1D\u001b[0m)                 │                             │                 │\n",
       "├──────────────────────────────────────┼─────────────────────────────┼─────────────────┤\n",
       "│ dropout_4 (\u001b[38;5;33mDropout\u001b[0m)                  │ (\u001b[38;5;45mNone\u001b[0m, \u001b[38;5;34m2048\u001b[0m)                │               \u001b[38;5;34m0\u001b[0m │\n",
       "├──────────────────────────────────────┼─────────────────────────────┼─────────────────┤\n",
       "│ dense (\u001b[38;5;33mDense\u001b[0m)                        │ (\u001b[38;5;45mNone\u001b[0m, \u001b[38;5;34m2048\u001b[0m)                │       \u001b[38;5;34m4,196,352\u001b[0m │\n",
       "├──────────────────────────────────────┼─────────────────────────────┼─────────────────┤\n",
       "│ dropout_5 (\u001b[38;5;33mDropout\u001b[0m)                  │ (\u001b[38;5;45mNone\u001b[0m, \u001b[38;5;34m2048\u001b[0m)                │               \u001b[38;5;34m0\u001b[0m │\n",
       "├──────────────────────────────────────┼─────────────────────────────┼─────────────────┤\n",
       "│ dense_1 (\u001b[38;5;33mDense\u001b[0m)                      │ (\u001b[38;5;45mNone\u001b[0m, \u001b[38;5;34m1024\u001b[0m)                │       \u001b[38;5;34m2,098,176\u001b[0m │\n",
       "├──────────────────────────────────────┼─────────────────────────────┼─────────────────┤\n",
       "│ dropout_6 (\u001b[38;5;33mDropout\u001b[0m)                  │ (\u001b[38;5;45mNone\u001b[0m, \u001b[38;5;34m1024\u001b[0m)                │               \u001b[38;5;34m0\u001b[0m │\n",
       "├──────────────────────────────────────┼─────────────────────────────┼─────────────────┤\n",
       "│ dense_2 (\u001b[38;5;33mDense\u001b[0m)                      │ (\u001b[38;5;45mNone\u001b[0m, \u001b[38;5;34m512\u001b[0m)                 │         \u001b[38;5;34m524,800\u001b[0m │\n",
       "├──────────────────────────────────────┼─────────────────────────────┼─────────────────┤\n",
       "│ dropout_7 (\u001b[38;5;33mDropout\u001b[0m)                  │ (\u001b[38;5;45mNone\u001b[0m, \u001b[38;5;34m512\u001b[0m)                 │               \u001b[38;5;34m0\u001b[0m │\n",
       "├──────────────────────────────────────┼─────────────────────────────┼─────────────────┤\n",
       "│ dense_3 (\u001b[38;5;33mDense\u001b[0m)                      │ (\u001b[38;5;45mNone\u001b[0m, \u001b[38;5;34m18\u001b[0m)                  │           \u001b[38;5;34m9,234\u001b[0m │\n",
       "└──────────────────────────────────────┴─────────────────────────────┴─────────────────┘\n"
      ]
     },
     "metadata": {},
     "output_type": "display_data"
    },
    {
     "data": {
      "text/html": [
       "<pre style=\"white-space:pre;overflow-x:auto;line-height:normal;font-family:Menlo,'DejaVu Sans Mono',consolas,'Courier New',monospace\"><span style=\"font-weight: bold\"> Total params: </span><span style=\"color: #00af00; text-decoration-color: #00af00\">25,364,242</span> (96.76 MB)\n",
       "</pre>\n"
      ],
      "text/plain": [
       "\u001b[1m Total params: \u001b[0m\u001b[38;5;34m25,364,242\u001b[0m (96.76 MB)\n"
      ]
     },
     "metadata": {},
     "output_type": "display_data"
    },
    {
     "data": {
      "text/html": [
       "<pre style=\"white-space:pre;overflow-x:auto;line-height:normal;font-family:Menlo,'DejaVu Sans Mono',consolas,'Courier New',monospace\"><span style=\"font-weight: bold\"> Trainable params: </span><span style=\"color: #00af00; text-decoration-color: #00af00\">25,352,466</span> (96.71 MB)\n",
       "</pre>\n"
      ],
      "text/plain": [
       "\u001b[1m Trainable params: \u001b[0m\u001b[38;5;34m25,352,466\u001b[0m (96.71 MB)\n"
      ]
     },
     "metadata": {},
     "output_type": "display_data"
    },
    {
     "data": {
      "text/html": [
       "<pre style=\"white-space:pre;overflow-x:auto;line-height:normal;font-family:Menlo,'DejaVu Sans Mono',consolas,'Courier New',monospace\"><span style=\"font-weight: bold\"> Non-trainable params: </span><span style=\"color: #00af00; text-decoration-color: #00af00\">11,776</span> (46.00 KB)\n",
       "</pre>\n"
      ],
      "text/plain": [
       "\u001b[1m Non-trainable params: \u001b[0m\u001b[38;5;34m11,776\u001b[0m (46.00 KB)\n"
      ]
     },
     "metadata": {},
     "output_type": "display_data"
    },
    {
     "name": "stdout",
     "output_type": "stream",
     "text": [
      "Training model...\n",
      "Epoch 1/150\n"
     ]
    },
    {
     "name": "stderr",
     "output_type": "stream",
     "text": [
      "WARNING: All log messages before absl::InitializeLog() is called are written to STDERR\n",
      "I0000 00:00:1749484480.060656      58 service.cc:148] XLA service 0x7ed784020460 initialized for platform CUDA (this does not guarantee that XLA will be used). Devices:\n",
      "I0000 00:00:1749484480.061256      58 service.cc:156]   StreamExecutor device (0): Tesla P100-PCIE-16GB, Compute Capability 6.0\n",
      "I0000 00:00:1749484480.817288      58 cuda_dnn.cc:529] Loaded cuDNN version 90300\n",
      "2025-06-09 15:54:45.220523: E external/local_xla/xla/service/slow_operation_alarm.cc:65] Trying algorithm eng4{k11=2} for conv (f32[64,512,1,48]{3,2,1,0}, u8[0]{0}) custom-call(f32[64,768,1,44]{3,2,1,0}, f32[768,512,1,5]{3,2,1,0}), window={size=1x5}, dim_labels=bf01_oi01->bf01, custom_call_target=\"__cudnn$convBackwardInput\", backend_config={\"cudnn_conv_backend_config\":{\"activation_mode\":\"kNone\",\"conv_result_scale\":1,\"leakyrelu_alpha\":0,\"side_input_scale\":0},\"force_earliest_schedule\":false,\"operation_queue_id\":\"0\",\"wait_on_operation_queues\":[]} is taking a while...\n",
      "2025-06-09 15:54:45.558259: E external/local_xla/xla/service/slow_operation_alarm.cc:133] The operation took 1.337851041s\n",
      "Trying algorithm eng4{k11=2} for conv (f32[64,512,1,48]{3,2,1,0}, u8[0]{0}) custom-call(f32[64,768,1,44]{3,2,1,0}, f32[768,512,1,5]{3,2,1,0}), window={size=1x5}, dim_labels=bf01_oi01->bf01, custom_call_target=\"__cudnn$convBackwardInput\", backend_config={\"cudnn_conv_backend_config\":{\"activation_mode\":\"kNone\",\"conv_result_scale\":1,\"leakyrelu_alpha\":0,\"side_input_scale\":0},\"force_earliest_schedule\":false,\"operation_queue_id\":\"0\",\"wait_on_operation_queues\":[]} is taking a while...\n"
     ]
    },
    {
     "name": "stdout",
     "output_type": "stream",
     "text": [
      "\u001b[1m  5/102\u001b[0m \u001b[37m━━━━━━━━━━━━━━━━━━━━\u001b[0m \u001b[1m2s\u001b[0m 30ms/step - accuracy: 0.0630 - loss: 5.0687"
     ]
    },
    {
     "name": "stderr",
     "output_type": "stream",
     "text": [
      "I0000 00:00:1749484492.160399      58 device_compiler.h:188] Compiled cluster using XLA!  This line is logged at most once for the lifetime of the process.\n"
     ]
    },
    {
     "name": "stdout",
     "output_type": "stream",
     "text": [
      "\u001b[1m102/102\u001b[0m \u001b[32m━━━━━━━━━━━━━━━━━━━━\u001b[0m\u001b[37m\u001b[0m \u001b[1m35s\u001b[0m 150ms/step - accuracy: 0.1038 - loss: 3.4446 - val_accuracy: 0.0822 - val_loss: 3.0649 - learning_rate: 0.0010\n",
      "Epoch 2/150\n",
      "\u001b[1m102/102\u001b[0m \u001b[32m━━━━━━━━━━━━━━━━━━━━\u001b[0m\u001b[37m\u001b[0m \u001b[1m3s\u001b[0m 29ms/step - accuracy: 0.1772 - loss: 2.5173 - val_accuracy: 0.0822 - val_loss: 2.8166 - learning_rate: 0.0010\n",
      "Epoch 3/150\n",
      "\u001b[1m102/102\u001b[0m \u001b[32m━━━━━━━━━━━━━━━━━━━━\u001b[0m\u001b[37m\u001b[0m \u001b[1m3s\u001b[0m 30ms/step - accuracy: 0.2230 - loss: 2.3197 - val_accuracy: 0.1140 - val_loss: 2.6389 - learning_rate: 0.0010\n",
      "Epoch 4/150\n",
      "\u001b[1m102/102\u001b[0m \u001b[32m━━━━━━━━━━━━━━━━━━━━\u001b[0m\u001b[37m\u001b[0m \u001b[1m3s\u001b[0m 30ms/step - accuracy: 0.2387 - loss: 2.2127 - val_accuracy: 0.2029 - val_loss: 2.3881 - learning_rate: 0.0010\n",
      "Epoch 5/150\n",
      "\u001b[1m102/102\u001b[0m \u001b[32m━━━━━━━━━━━━━━━━━━━━\u001b[0m\u001b[37m\u001b[0m \u001b[1m3s\u001b[0m 30ms/step - accuracy: 0.2603 - loss: 2.1397 - val_accuracy: 0.2869 - val_loss: 2.0161 - learning_rate: 0.0010\n",
      "Epoch 6/150\n",
      "\u001b[1m102/102\u001b[0m \u001b[32m━━━━━━━━━━━━━━━━━━━━\u001b[0m\u001b[37m\u001b[0m \u001b[1m3s\u001b[0m 30ms/step - accuracy: 0.2736 - loss: 2.0625 - val_accuracy: 0.3109 - val_loss: 1.9188 - learning_rate: 0.0010\n",
      "Epoch 7/150\n",
      "\u001b[1m102/102\u001b[0m \u001b[32m━━━━━━━━━━━━━━━━━━━━\u001b[0m\u001b[37m\u001b[0m \u001b[1m3s\u001b[0m 30ms/step - accuracy: 0.3052 - loss: 2.0109 - val_accuracy: 0.3384 - val_loss: 1.8707 - learning_rate: 0.0010\n",
      "Epoch 8/150\n",
      "\u001b[1m102/102\u001b[0m \u001b[32m━━━━━━━━━━━━━━━━━━━━\u001b[0m\u001b[37m\u001b[0m \u001b[1m3s\u001b[0m 30ms/step - accuracy: 0.3263 - loss: 1.9455 - val_accuracy: 0.3433 - val_loss: 1.8551 - learning_rate: 0.0010\n",
      "Epoch 9/150\n",
      "\u001b[1m102/102\u001b[0m \u001b[32m━━━━━━━━━━━━━━━━━━━━\u001b[0m\u001b[37m\u001b[0m \u001b[1m3s\u001b[0m 30ms/step - accuracy: 0.3278 - loss: 1.8977 - val_accuracy: 0.3581 - val_loss: 1.8060 - learning_rate: 0.0010\n",
      "Epoch 10/150\n",
      "\u001b[1m102/102\u001b[0m \u001b[32m━━━━━━━━━━━━━━━━━━━━\u001b[0m\u001b[37m\u001b[0m \u001b[1m3s\u001b[0m 29ms/step - accuracy: 0.3359 - loss: 1.8537 - val_accuracy: 0.3538 - val_loss: 1.8738 - learning_rate: 0.0010\n",
      "Epoch 11/150\n",
      "\u001b[1m102/102\u001b[0m \u001b[32m━━━━━━━━━━━━━━━━━━━━\u001b[0m\u001b[37m\u001b[0m \u001b[1m3s\u001b[0m 30ms/step - accuracy: 0.3535 - loss: 1.8312 - val_accuracy: 0.3587 - val_loss: 1.8246 - learning_rate: 0.0010\n",
      "Epoch 12/150\n",
      "\u001b[1m102/102\u001b[0m \u001b[32m━━━━━━━━━━━━━━━━━━━━\u001b[0m\u001b[37m\u001b[0m \u001b[1m3s\u001b[0m 30ms/step - accuracy: 0.3577 - loss: 1.7646 - val_accuracy: 0.3666 - val_loss: 1.8663 - learning_rate: 0.0010\n",
      "Epoch 13/150\n",
      "\u001b[1m102/102\u001b[0m \u001b[32m━━━━━━━━━━━━━━━━━━━━\u001b[0m\u001b[37m\u001b[0m \u001b[1m3s\u001b[0m 30ms/step - accuracy: 0.3789 - loss: 1.7448 - val_accuracy: 0.3654 - val_loss: 1.8257 - learning_rate: 0.0010\n",
      "Epoch 14/150\n",
      "\u001b[1m102/102\u001b[0m \u001b[32m━━━━━━━━━━━━━━━━━━━━\u001b[0m\u001b[37m\u001b[0m \u001b[1m3s\u001b[0m 30ms/step - accuracy: 0.3761 - loss: 1.7078 - val_accuracy: 0.3807 - val_loss: 1.7877 - learning_rate: 0.0010\n",
      "Epoch 15/150\n",
      "\u001b[1m102/102\u001b[0m \u001b[32m━━━━━━━━━━━━━━━━━━━━\u001b[0m\u001b[37m\u001b[0m \u001b[1m3s\u001b[0m 30ms/step - accuracy: 0.3913 - loss: 1.6656 - val_accuracy: 0.3844 - val_loss: 1.7675 - learning_rate: 0.0010\n",
      "Epoch 16/150\n",
      "\u001b[1m102/102\u001b[0m \u001b[32m━━━━━━━━━━━━━━━━━━━━\u001b[0m\u001b[37m\u001b[0m \u001b[1m3s\u001b[0m 29ms/step - accuracy: 0.3965 - loss: 1.6521 - val_accuracy: 0.3752 - val_loss: 1.7982 - learning_rate: 0.0010\n",
      "Epoch 17/150\n",
      "\u001b[1m102/102\u001b[0m \u001b[32m━━━━━━━━━━━━━━━━━━━━\u001b[0m\u001b[37m\u001b[0m \u001b[1m3s\u001b[0m 30ms/step - accuracy: 0.4085 - loss: 1.6152 - val_accuracy: 0.3955 - val_loss: 1.7445 - learning_rate: 0.0010\n",
      "Epoch 18/150\n",
      "\u001b[1m102/102\u001b[0m \u001b[32m━━━━━━━━━━━━━━━━━━━━\u001b[0m\u001b[37m\u001b[0m \u001b[1m3s\u001b[0m 29ms/step - accuracy: 0.4265 - loss: 1.5683 - val_accuracy: 0.3826 - val_loss: 1.7666 - learning_rate: 0.0010\n",
      "Epoch 19/150\n",
      "\u001b[1m102/102\u001b[0m \u001b[32m━━━━━━━━━━━━━━━━━━━━\u001b[0m\u001b[37m\u001b[0m \u001b[1m3s\u001b[0m 30ms/step - accuracy: 0.4243 - loss: 1.5813 - val_accuracy: 0.3985 - val_loss: 1.7718 - learning_rate: 0.0010\n",
      "Epoch 20/150\n",
      "\u001b[1m102/102\u001b[0m \u001b[32m━━━━━━━━━━━━━━━━━━━━\u001b[0m\u001b[37m\u001b[0m \u001b[1m3s\u001b[0m 30ms/step - accuracy: 0.4336 - loss: 1.5295 - val_accuracy: 0.4126 - val_loss: 1.7706 - learning_rate: 0.0010\n",
      "Epoch 21/150\n",
      "\u001b[1m102/102\u001b[0m \u001b[32m━━━━━━━━━━━━━━━━━━━━\u001b[0m\u001b[37m\u001b[0m \u001b[1m3s\u001b[0m 29ms/step - accuracy: 0.4430 - loss: 1.4965 - val_accuracy: 0.4065 - val_loss: 1.7934 - learning_rate: 0.0010\n",
      "Epoch 22/150\n",
      "\u001b[1m102/102\u001b[0m \u001b[32m━━━━━━━━━━━━━━━━━━━━\u001b[0m\u001b[37m\u001b[0m \u001b[1m3s\u001b[0m 29ms/step - accuracy: 0.4518 - loss: 1.4796 - val_accuracy: 0.3961 - val_loss: 1.7870 - learning_rate: 0.0010\n",
      "Epoch 23/150\n",
      "\u001b[1m101/102\u001b[0m \u001b[32m━━━━━━━━━━━━━━━━━━━\u001b[0m\u001b[37m━\u001b[0m \u001b[1m0s\u001b[0m 27ms/step - accuracy: 0.4404 - loss: 1.5201\n",
      "Epoch 23: ReduceLROnPlateau reducing learning rate to 0.0007000000332482159.\n",
      "\u001b[1m102/102\u001b[0m \u001b[32m━━━━━━━━━━━━━━━━━━━━\u001b[0m\u001b[37m\u001b[0m \u001b[1m3s\u001b[0m 29ms/step - accuracy: 0.4405 - loss: 1.5198 - val_accuracy: 0.4059 - val_loss: 1.7716 - learning_rate: 0.0010\n",
      "Epoch 24/150\n",
      "\u001b[1m102/102\u001b[0m \u001b[32m━━━━━━━━━━━━━━━━━━━━\u001b[0m\u001b[37m\u001b[0m \u001b[1m3s\u001b[0m 30ms/step - accuracy: 0.4744 - loss: 1.3858 - val_accuracy: 0.4310 - val_loss: 1.6923 - learning_rate: 7.0000e-04\n",
      "Epoch 25/150\n",
      "\u001b[1m102/102\u001b[0m \u001b[32m━━━━━━━━━━━━━━━━━━━━\u001b[0m\u001b[37m\u001b[0m \u001b[1m3s\u001b[0m 30ms/step - accuracy: 0.4859 - loss: 1.3430 - val_accuracy: 0.4390 - val_loss: 1.7055 - learning_rate: 7.0000e-04\n",
      "Epoch 26/150\n",
      "\u001b[1m102/102\u001b[0m \u001b[32m━━━━━━━━━━━━━━━━━━━━\u001b[0m\u001b[37m\u001b[0m \u001b[1m3s\u001b[0m 29ms/step - accuracy: 0.4946 - loss: 1.3264 - val_accuracy: 0.4280 - val_loss: 1.7143 - learning_rate: 7.0000e-04\n",
      "Epoch 27/150\n",
      "\u001b[1m102/102\u001b[0m \u001b[32m━━━━━━━━━━━━━━━━━━━━\u001b[0m\u001b[37m\u001b[0m \u001b[1m3s\u001b[0m 30ms/step - accuracy: 0.5120 - loss: 1.2929 - val_accuracy: 0.4451 - val_loss: 1.6928 - learning_rate: 7.0000e-04\n",
      "Epoch 28/150\n",
      "\u001b[1m102/102\u001b[0m \u001b[32m━━━━━━━━━━━━━━━━━━━━\u001b[0m\u001b[37m\u001b[0m \u001b[1m3s\u001b[0m 29ms/step - accuracy: 0.5166 - loss: 1.2762 - val_accuracy: 0.4243 - val_loss: 1.7629 - learning_rate: 7.0000e-04\n",
      "Epoch 29/150\n",
      "\u001b[1m102/102\u001b[0m \u001b[32m━━━━━━━━━━━━━━━━━━━━\u001b[0m\u001b[37m\u001b[0m \u001b[1m3s\u001b[0m 29ms/step - accuracy: 0.5301 - loss: 1.2564 - val_accuracy: 0.4353 - val_loss: 1.7416 - learning_rate: 7.0000e-04\n",
      "Epoch 30/150\n",
      "\u001b[1m101/102\u001b[0m \u001b[32m━━━━━━━━━━━━━━━━━━━\u001b[0m\u001b[37m━\u001b[0m \u001b[1m0s\u001b[0m 28ms/step - accuracy: 0.5253 - loss: 1.2670\n",
      "Epoch 30: ReduceLROnPlateau reducing learning rate to 0.0004900000232737511.\n",
      "\u001b[1m102/102\u001b[0m \u001b[32m━━━━━━━━━━━━━━━━━━━━\u001b[0m\u001b[37m\u001b[0m \u001b[1m3s\u001b[0m 30ms/step - accuracy: 0.5253 - loss: 1.2668 - val_accuracy: 0.4310 - val_loss: 1.7832 - learning_rate: 7.0000e-04\n",
      "Epoch 31/150\n",
      "\u001b[1m102/102\u001b[0m \u001b[32m━━━━━━━━━━━━━━━━━━━━\u001b[0m\u001b[37m\u001b[0m \u001b[1m3s\u001b[0m 30ms/step - accuracy: 0.5444 - loss: 1.1861 - val_accuracy: 0.4476 - val_loss: 1.7330 - learning_rate: 4.9000e-04\n",
      "Epoch 32/150\n",
      "\u001b[1m102/102\u001b[0m \u001b[32m━━━━━━━━━━━━━━━━━━━━\u001b[0m\u001b[37m\u001b[0m \u001b[1m3s\u001b[0m 30ms/step - accuracy: 0.5730 - loss: 1.1283 - val_accuracy: 0.4568 - val_loss: 1.7549 - learning_rate: 4.9000e-04\n",
      "Epoch 33/150\n",
      "\u001b[1m102/102\u001b[0m \u001b[32m━━━━━━━━━━━━━━━━━━━━\u001b[0m\u001b[37m\u001b[0m \u001b[1m3s\u001b[0m 29ms/step - accuracy: 0.5758 - loss: 1.0723 - val_accuracy: 0.4396 - val_loss: 1.9215 - learning_rate: 4.9000e-04\n",
      "Epoch 34/150\n",
      "\u001b[1m102/102\u001b[0m \u001b[32m━━━━━━━━━━━━━━━━━━━━\u001b[0m\u001b[37m\u001b[0m \u001b[1m3s\u001b[0m 30ms/step - accuracy: 0.5916 - loss: 1.0501 - val_accuracy: 0.4549 - val_loss: 1.8302 - learning_rate: 4.9000e-04\n",
      "Epoch 35/150\n",
      "\u001b[1m101/102\u001b[0m \u001b[32m━━━━━━━━━━━━━━━━━━━\u001b[0m\u001b[37m━\u001b[0m \u001b[1m0s\u001b[0m 27ms/step - accuracy: 0.5958 - loss: 1.0501\n",
      "Epoch 35: ReduceLROnPlateau reducing learning rate to 0.00034300000406801696.\n",
      "\u001b[1m102/102\u001b[0m \u001b[32m━━━━━━━━━━━━━━━━━━━━\u001b[0m\u001b[37m\u001b[0m \u001b[1m3s\u001b[0m 29ms/step - accuracy: 0.5957 - loss: 1.0501 - val_accuracy: 0.4482 - val_loss: 1.8295 - learning_rate: 4.9000e-04\n",
      "Epoch 36/150\n",
      "\u001b[1m102/102\u001b[0m \u001b[32m━━━━━━━━━━━━━━━━━━━━\u001b[0m\u001b[37m\u001b[0m \u001b[1m3s\u001b[0m 30ms/step - accuracy: 0.6202 - loss: 0.9818 - val_accuracy: 0.4617 - val_loss: 1.8461 - learning_rate: 3.4300e-04\n",
      "Epoch 37/150\n",
      "\u001b[1m102/102\u001b[0m \u001b[32m━━━━━━━━━━━━━━━━━━━━\u001b[0m\u001b[37m\u001b[0m \u001b[1m3s\u001b[0m 30ms/step - accuracy: 0.6387 - loss: 0.9280 - val_accuracy: 0.4672 - val_loss: 1.8665 - learning_rate: 3.4300e-04\n",
      "Epoch 38/150\n",
      "\u001b[1m102/102\u001b[0m \u001b[32m━━━━━━━━━━━━━━━━━━━━\u001b[0m\u001b[37m\u001b[0m \u001b[1m3s\u001b[0m 29ms/step - accuracy: 0.6494 - loss: 0.8859 - val_accuracy: 0.4562 - val_loss: 2.0658 - learning_rate: 3.4300e-04\n",
      "Epoch 39/150\n",
      "\u001b[1m102/102\u001b[0m \u001b[32m━━━━━━━━━━━━━━━━━━━━\u001b[0m\u001b[37m\u001b[0m \u001b[1m3s\u001b[0m 29ms/step - accuracy: 0.6577 - loss: 0.8814 - val_accuracy: 0.4586 - val_loss: 2.0335 - learning_rate: 3.4300e-04\n",
      "Epoch 40/150\n",
      "\u001b[1m102/102\u001b[0m \u001b[32m━━━━━━━━━━━━━━━━━━━━\u001b[0m\u001b[37m\u001b[0m \u001b[1m3s\u001b[0m 30ms/step - accuracy: 0.6740 - loss: 0.8669 - val_accuracy: 0.4684 - val_loss: 2.0012 - learning_rate: 3.4300e-04\n",
      "Epoch 41/150\n",
      "\u001b[1m102/102\u001b[0m \u001b[32m━━━━━━━━━━━━━━━━━━━━\u001b[0m\u001b[37m\u001b[0m \u001b[1m3s\u001b[0m 29ms/step - accuracy: 0.6821 - loss: 0.8110 - val_accuracy: 0.4506 - val_loss: 1.9531 - learning_rate: 3.4300e-04\n",
      "Epoch 42/150\n",
      "\u001b[1m102/102\u001b[0m \u001b[32m━━━━━━━━━━━━━━━━━━━━\u001b[0m\u001b[37m\u001b[0m \u001b[1m3s\u001b[0m 29ms/step - accuracy: 0.6839 - loss: 0.7980 - val_accuracy: 0.4562 - val_loss: 2.0358 - learning_rate: 3.4300e-04\n",
      "Epoch 43/150\n",
      "\u001b[1m101/102\u001b[0m \u001b[32m━━━━━━━━━━━━━━━━━━━\u001b[0m\u001b[37m━\u001b[0m \u001b[1m0s\u001b[0m 27ms/step - accuracy: 0.7004 - loss: 0.7734\n",
      "Epoch 43: ReduceLROnPlateau reducing learning rate to 0.00024009999469853935.\n",
      "\u001b[1m102/102\u001b[0m \u001b[32m━━━━━━━━━━━━━━━━━━━━\u001b[0m\u001b[37m\u001b[0m \u001b[1m3s\u001b[0m 29ms/step - accuracy: 0.7003 - loss: 0.7741 - val_accuracy: 0.4641 - val_loss: 2.0536 - learning_rate: 3.4300e-04\n",
      "Epoch 44/150\n",
      "\u001b[1m102/102\u001b[0m \u001b[32m━━━━━━━━━━━━━━━━━━━━\u001b[0m\u001b[37m\u001b[0m \u001b[1m3s\u001b[0m 30ms/step - accuracy: 0.7073 - loss: 0.7439 - val_accuracy: 0.4703 - val_loss: 2.0749 - learning_rate: 2.4010e-04\n",
      "Epoch 45/150\n",
      "\u001b[1m102/102\u001b[0m \u001b[32m━━━━━━━━━━━━━━━━━━━━\u001b[0m\u001b[37m\u001b[0m \u001b[1m3s\u001b[0m 30ms/step - accuracy: 0.7324 - loss: 0.7023 - val_accuracy: 0.4709 - val_loss: 2.0993 - learning_rate: 2.4010e-04\n",
      "Epoch 46/150\n",
      "\u001b[1m102/102\u001b[0m \u001b[32m━━━━━━━━━━━━━━━━━━━━\u001b[0m\u001b[37m\u001b[0m \u001b[1m3s\u001b[0m 29ms/step - accuracy: 0.7522 - loss: 0.6718 - val_accuracy: 0.4598 - val_loss: 2.1817 - learning_rate: 2.4010e-04\n",
      "Epoch 47/150\n",
      "\u001b[1m102/102\u001b[0m \u001b[32m━━━━━━━━━━━━━━━━━━━━\u001b[0m\u001b[37m\u001b[0m \u001b[1m3s\u001b[0m 30ms/step - accuracy: 0.7536 - loss: 0.6523 - val_accuracy: 0.4752 - val_loss: 2.1595 - learning_rate: 2.4010e-04\n",
      "Epoch 48/150\n",
      "\u001b[1m102/102\u001b[0m \u001b[32m━━━━━━━━━━━━━━━━━━━━\u001b[0m\u001b[37m\u001b[0m \u001b[1m3s\u001b[0m 29ms/step - accuracy: 0.7591 - loss: 0.6074 - val_accuracy: 0.4746 - val_loss: 2.2407 - learning_rate: 2.4010e-04\n",
      "Epoch 49/150\n",
      "\u001b[1m102/102\u001b[0m \u001b[32m━━━━━━━━━━━━━━━━━━━━\u001b[0m\u001b[37m\u001b[0m \u001b[1m3s\u001b[0m 29ms/step - accuracy: 0.7620 - loss: 0.5962 - val_accuracy: 0.4672 - val_loss: 2.4029 - learning_rate: 2.4010e-04\n",
      "Epoch 50/150\n",
      "\u001b[1m101/102\u001b[0m \u001b[32m━━━━━━━━━━━━━━━━━━━\u001b[0m\u001b[37m━\u001b[0m \u001b[1m0s\u001b[0m 27ms/step - accuracy: 0.7802 - loss: 0.5876\n",
      "Epoch 50: ReduceLROnPlateau reducing learning rate to 0.00016806999628897755.\n",
      "\u001b[1m102/102\u001b[0m \u001b[32m━━━━━━━━━━━━━━━━━━━━\u001b[0m\u001b[37m\u001b[0m \u001b[1m3s\u001b[0m 29ms/step - accuracy: 0.7801 - loss: 0.5877 - val_accuracy: 0.4746 - val_loss: 2.3719 - learning_rate: 2.4010e-04\n",
      "Epoch 51/150\n",
      "\u001b[1m102/102\u001b[0m \u001b[32m━━━━━━━━━━━━━━━━━━━━\u001b[0m\u001b[37m\u001b[0m \u001b[1m3s\u001b[0m 30ms/step - accuracy: 0.7770 - loss: 0.5595 - val_accuracy: 0.4770 - val_loss: 2.3587 - learning_rate: 1.6807e-04\n",
      "Epoch 52/150\n",
      "\u001b[1m102/102\u001b[0m \u001b[32m━━━━━━━━━━━━━━━━━━━━\u001b[0m\u001b[37m\u001b[0m \u001b[1m3s\u001b[0m 30ms/step - accuracy: 0.8054 - loss: 0.5057 - val_accuracy: 0.4807 - val_loss: 2.4291 - learning_rate: 1.6807e-04\n",
      "Epoch 53/150\n",
      "\u001b[1m102/102\u001b[0m \u001b[32m━━━━━━━━━━━━━━━━━━━━\u001b[0m\u001b[37m\u001b[0m \u001b[1m3s\u001b[0m 29ms/step - accuracy: 0.8108 - loss: 0.4993 - val_accuracy: 0.4764 - val_loss: 2.4848 - learning_rate: 1.6807e-04\n",
      "Epoch 54/150\n",
      "\u001b[1m102/102\u001b[0m \u001b[32m━━━━━━━━━━━━━━━━━━━━\u001b[0m\u001b[37m\u001b[0m \u001b[1m3s\u001b[0m 30ms/step - accuracy: 0.8184 - loss: 0.4605 - val_accuracy: 0.4831 - val_loss: 2.6007 - learning_rate: 1.6807e-04\n",
      "Epoch 55/150\n",
      "\u001b[1m102/102\u001b[0m \u001b[32m━━━━━━━━━━━━━━━━━━━━\u001b[0m\u001b[37m\u001b[0m \u001b[1m3s\u001b[0m 29ms/step - accuracy: 0.8238 - loss: 0.4709 - val_accuracy: 0.4739 - val_loss: 2.6107 - learning_rate: 1.6807e-04\n",
      "Epoch 56/150\n",
      "\u001b[1m102/102\u001b[0m \u001b[32m━━━━━━━━━━━━━━━━━━━━\u001b[0m\u001b[37m\u001b[0m \u001b[1m3s\u001b[0m 29ms/step - accuracy: 0.8252 - loss: 0.4504 - val_accuracy: 0.4795 - val_loss: 2.6361 - learning_rate: 1.6807e-04\n",
      "Epoch 57/150\n",
      "\u001b[1m102/102\u001b[0m \u001b[32m━━━━━━━━━━━━━━━━━━━━\u001b[0m\u001b[37m\u001b[0m \u001b[1m3s\u001b[0m 30ms/step - accuracy: 0.8316 - loss: 0.4328 - val_accuracy: 0.4856 - val_loss: 2.7398 - learning_rate: 1.6807e-04\n",
      "Epoch 58/150\n",
      "\u001b[1m102/102\u001b[0m \u001b[32m━━━━━━━━━━━━━━━━━━━━\u001b[0m\u001b[37m\u001b[0m \u001b[1m3s\u001b[0m 29ms/step - accuracy: 0.8358 - loss: 0.4040 - val_accuracy: 0.4752 - val_loss: 2.7901 - learning_rate: 1.6807e-04\n",
      "Epoch 59/150\n",
      "\u001b[1m102/102\u001b[0m \u001b[32m━━━━━━━━━━━━━━━━━━━━\u001b[0m\u001b[37m\u001b[0m \u001b[1m3s\u001b[0m 29ms/step - accuracy: 0.8391 - loss: 0.4290 - val_accuracy: 0.4850 - val_loss: 2.8264 - learning_rate: 1.6807e-04\n",
      "Epoch 60/150\n",
      "\u001b[1m101/102\u001b[0m \u001b[32m━━━━━━━━━━━━━━━━━━━\u001b[0m\u001b[37m━\u001b[0m \u001b[1m0s\u001b[0m 27ms/step - accuracy: 0.8547 - loss: 0.3606\n",
      "Epoch 60: ReduceLROnPlateau reducing learning rate to 0.00011764899536501615.\n",
      "\u001b[1m102/102\u001b[0m \u001b[32m━━━━━━━━━━━━━━━━━━━━\u001b[0m\u001b[37m\u001b[0m \u001b[1m3s\u001b[0m 29ms/step - accuracy: 0.8546 - loss: 0.3608 - val_accuracy: 0.4776 - val_loss: 3.0009 - learning_rate: 1.6807e-04\n",
      "Epoch 61/150\n",
      "\u001b[1m102/102\u001b[0m \u001b[32m━━━━━━━━━━━━━━━━━━━━\u001b[0m\u001b[37m\u001b[0m \u001b[1m3s\u001b[0m 30ms/step - accuracy: 0.8568 - loss: 0.3628 - val_accuracy: 0.4844 - val_loss: 2.9746 - learning_rate: 1.1765e-04\n",
      "Epoch 62/150\n",
      "\u001b[1m102/102\u001b[0m \u001b[32m━━━━━━━━━━━━━━━━━━━━\u001b[0m\u001b[37m\u001b[0m \u001b[1m3s\u001b[0m 29ms/step - accuracy: 0.8704 - loss: 0.3439 - val_accuracy: 0.4788 - val_loss: 2.9061 - learning_rate: 1.1765e-04\n",
      "Epoch 63/150\n",
      "\u001b[1m101/102\u001b[0m \u001b[32m━━━━━━━━━━━━━━━━━━━\u001b[0m\u001b[37m━\u001b[0m \u001b[1m0s\u001b[0m 27ms/step - accuracy: 0.8743 - loss: 0.3305\n",
      "Epoch 63: ReduceLROnPlateau reducing learning rate to 8.235429777414538e-05.\n",
      "\u001b[1m102/102\u001b[0m \u001b[32m━━━━━━━━━━━━━━━━━━━━\u001b[0m\u001b[37m\u001b[0m \u001b[1m3s\u001b[0m 29ms/step - accuracy: 0.8743 - loss: 0.3307 - val_accuracy: 0.4690 - val_loss: 2.9462 - learning_rate: 1.1765e-04\n",
      "Epoch 64/150\n",
      "\u001b[1m102/102\u001b[0m \u001b[32m━━━━━━━━━━━━━━━━━━━━\u001b[0m\u001b[37m\u001b[0m \u001b[1m3s\u001b[0m 29ms/step - accuracy: 0.8805 - loss: 0.3135 - val_accuracy: 0.4764 - val_loss: 3.1127 - learning_rate: 8.2354e-05\n",
      "Epoch 65/150\n",
      "\u001b[1m102/102\u001b[0m \u001b[32m━━━━━━━━━━━━━━━━━━━━\u001b[0m\u001b[37m\u001b[0m \u001b[1m3s\u001b[0m 29ms/step - accuracy: 0.8812 - loss: 0.3098 - val_accuracy: 0.4733 - val_loss: 3.1620 - learning_rate: 8.2354e-05\n",
      "Epoch 66/150\n",
      "\u001b[1m101/102\u001b[0m \u001b[32m━━━━━━━━━━━━━━━━━━━\u001b[0m\u001b[37m━\u001b[0m \u001b[1m0s\u001b[0m 27ms/step - accuracy: 0.8936 - loss: 0.2827\n",
      "Epoch 66: ReduceLROnPlateau reducing learning rate to 5.76480058953166e-05.\n",
      "\u001b[1m102/102\u001b[0m \u001b[32m━━━━━━━━━━━━━━━━━━━━\u001b[0m\u001b[37m\u001b[0m \u001b[1m3s\u001b[0m 29ms/step - accuracy: 0.8936 - loss: 0.2828 - val_accuracy: 0.4813 - val_loss: 3.2818 - learning_rate: 8.2354e-05\n",
      "Epoch 67/150\n",
      "\u001b[1m102/102\u001b[0m \u001b[32m━━━━━━━━━━━━━━━━━━━━\u001b[0m\u001b[37m\u001b[0m \u001b[1m3s\u001b[0m 29ms/step - accuracy: 0.8951 - loss: 0.2988 - val_accuracy: 0.4697 - val_loss: 3.2105 - learning_rate: 5.7648e-05\n",
      "Epoch 67: early stopping\n",
      "Restoring model weights from the end of the best epoch: 57.\n",
      "Training complete.\n",
      "CPU times: user 1min 35s, sys: 10.3 s, total: 1min 45s\n",
      "Wall time: 3min 58s\n"
     ]
    }
   ],
   "source": [
    "%%time\n",
    "from tensorflow.keras.callbacks import EarlyStopping, ReduceLROnPlateau\n",
    "from tensorflow.keras.layers import BatchNormalization\n",
    "\n",
    "# Build 1D CNN model\n",
    "\n",
    "model = Sequential([\n",
    "    # Block 1 \n",
    "    Conv1D(filters=512, kernel_size=7, activation='relu', input_shape=(X_train.shape[1], X_train.shape[2])),\n",
    "    BatchNormalization(),\n",
    "    MaxPooling1D(pool_size=2),\n",
    "    Dropout(0.3),\n",
    "    \n",
    "    # Block 2 \n",
    "    Conv1D(filters=768, kernel_size=5, activation='relu'),\n",
    "    BatchNormalization(),\n",
    "    MaxPooling1D(pool_size=2),\n",
    "    Dropout(0.3),\n",
    "    \n",
    "    # Block 3\n",
    "    Conv1D(filters=1024, kernel_size=3, activation='relu'),\n",
    "    BatchNormalization(),\n",
    "    MaxPooling1D(pool_size=2),\n",
    "    Dropout(0.4),\n",
    "    \n",
    "    # Block 4\n",
    "    Conv1D(filters=1536, kernel_size=3, activation='relu'),\n",
    "    BatchNormalization(),\n",
    "    MaxPooling1D(pool_size=2),\n",
    "    Dropout(0.4),\n",
    "    \n",
    "    # Block 5\n",
    "    Conv1D(filters=2048, kernel_size=3, activation='relu'),\n",
    "    BatchNormalization(),\n",
    "    GlobalMaxPooling1D(),  # Alternative to MaxPooling1D + Flatten\n",
    "    Dropout(0.5),\n",
    "    \n",
    "    # Larger Dense layers\n",
    "    Dense(2048, activation='relu'),\n",
    "    Dropout(0.5),\n",
    "    Dense(1024, activation='relu'),\n",
    "    Dropout(0.4),\n",
    "    Dense(512, activation='relu'),\n",
    "    Dropout(0.3),\n",
    "    \n",
    "    # Output\n",
    "    Dense(num_classes, activation='softmax')\n",
    "])\n",
    "\n",
    "# Compile model with categorical crossentropy loss (for one-hot labels)\n",
    "model.compile(optimizer='adam', loss='categorical_crossentropy', metrics=['accuracy'])\n",
    "model.summary()\n",
    "\n",
    "# Define early stopping to prevent overfitting and restore best model\n",
    "early_stopping = EarlyStopping(\n",
    "    monitor='val_accuracy',           \n",
    "    patience=10,\n",
    "    restore_best_weights=True,\n",
    "    verbose=1\n",
    ")\n",
    "\n",
    "reduce_lr = ReduceLROnPlateau(\n",
    "    monitor='val_accuracy',      \n",
    "    factor=0.7,                 \n",
    "    patience=3,                  \n",
    "    min_lr=1e-7,                 \n",
    "    verbose=1\n",
    ")\n",
    "\n",
    "# Train model using explicitly split validation set (80/20 held out)\n",
    "print(\"Training model...\")\n",
    "model.fit(\n",
    "    X_train, y_train,\n",
    "    epochs=150,                  \n",
    "    batch_size=64,              \n",
    "    validation_data=(X_val, y_val),\n",
    "    callbacks=[early_stopping, reduce_lr]\n",
    ")\n",
    "\n",
    "model.save(\"gesture_cnn_model.h5\")\n",
    "print(\"Training complete.\")"
   ]
  },
  {
   "cell_type": "markdown",
   "id": "c15f94a7",
   "metadata": {
    "papermill": {
     "duration": 0.146296,
     "end_time": "2025-06-09T15:58:29.291056",
     "exception": false,
     "start_time": "2025-06-09T15:58:29.144760",
     "status": "completed"
    },
    "tags": []
   },
   "source": [
    "# Use Competition Metric for LB Estimate\n",
    "* We import: https://www.kaggle.com/code/richolson/cmi-2025-metric-copy-for-import\n",
    "* Which is a copy of: https://www.kaggle.com/code/metric/cmi-2025"
   ]
  },
  {
   "cell_type": "code",
   "execution_count": 12,
   "id": "4ec46403",
   "metadata": {
    "execution": {
     "iopub.execute_input": "2025-06-09T15:58:29.589728Z",
     "iopub.status.busy": "2025-06-09T15:58:29.589443Z",
     "iopub.status.idle": "2025-06-09T15:58:32.062575Z",
     "shell.execute_reply": "2025-06-09T15:58:32.061812Z"
    },
    "papermill": {
     "duration": 2.622391,
     "end_time": "2025-06-09T15:58:32.063815",
     "exception": false,
     "start_time": "2025-06-09T15:58:29.441424",
     "status": "completed"
    },
    "tags": []
   },
   "outputs": [
    {
     "name": "stdout",
     "output_type": "stream",
     "text": [
      "Predicting on validation set...\n",
      "Estimated leaderboard (val) score: 0.6754\n"
     ]
    }
   ],
   "source": [
    "from cmi_2025_metric_copy_for_import import CompetitionMetric\n",
    "\n",
    "# Get predicted labels for the validation set\n",
    "print(\"Predicting on validation set...\")\n",
    "y_val_pred_probs = model.predict(X_val, verbose=0)\n",
    "y_val_pred = np.argmax(y_val_pred_probs, axis=1)\n",
    "y_val_true = np.argmax(y_val, axis=1)\n",
    "\n",
    "# Map integer labels back to gesture strings\n",
    "gesture_classes = np.load(\"gesture_classes.npy\", allow_pickle=True)\n",
    "val_pred_labels = pd.Series(y_val_pred).map(lambda i: gesture_classes[i])\n",
    "val_true_labels = pd.Series(y_val_true).map(lambda i: gesture_classes[i])\n",
    "\n",
    "# Build DataFrames for the metric\n",
    "val_submission = pd.DataFrame({'gesture': val_pred_labels})\n",
    "val_solution = pd.DataFrame({'gesture': val_true_labels})\n",
    "\n",
    "# Run competition metric\n",
    "metric = CompetitionMetric()\n",
    "score = metric.calculate_hierarchical_f1(val_solution, val_submission)\n",
    "print(f\"Estimated leaderboard (val) score: {score:.4f}\")"
   ]
  },
  {
   "cell_type": "markdown",
   "id": "4c98b52f",
   "metadata": {
    "papermill": {
     "duration": 0.145883,
     "end_time": "2025-06-09T15:58:32.357342",
     "exception": false,
     "start_time": "2025-06-09T15:58:32.211459",
     "status": "completed"
    },
    "tags": []
   },
   "source": [
    "# Predict function for inference server\n",
    "* Runs same preprocess_sequence function on inference data as we did for training\n",
    "* Pads / truncates to sequences to same length as for training\n",
    "* Loads trained model and predicts gesture class\n",
    "* Maps predicted index back to original gesture label"
   ]
  },
  {
   "cell_type": "code",
   "execution_count": 13,
   "id": "e6c30ff2",
   "metadata": {
    "execution": {
     "iopub.execute_input": "2025-06-09T15:58:32.709546Z",
     "iopub.status.busy": "2025-06-09T15:58:32.708943Z",
     "iopub.status.idle": "2025-06-09T15:58:35.608865Z",
     "shell.execute_reply": "2025-06-09T15:58:35.608223Z"
    },
    "papermill": {
     "duration": 3.046957,
     "end_time": "2025-06-09T15:58:35.610200",
     "exception": false,
     "start_time": "2025-06-09T15:58:32.563243",
     "status": "completed"
    },
    "tags": []
   },
   "outputs": [],
   "source": [
    "# loading model and setup outside of predict function to reduce overhead\n",
    "model = load_model(\"gesture_cnn_model.h5\")\n",
    "maxlen = int(np.load(\"sequence_maxlen.npy\"))  # ensure consistent shape\n",
    "gesture_classes = np.load(\"gesture_classes.npy\", allow_pickle=True)\n",
    "\n",
    "def predict(sequence: pl.DataFrame, demographics: pl.DataFrame) -> str:\n",
    "    df_seq = sequence.to_pandas()\n",
    "    processed = preprocess_sequence(df_seq, feature_cols)\n",
    "    padded = pad_sequences([processed], maxlen=maxlen, dtype='float32', padding='post', truncating='post')\n",
    "    prediction = model.predict(padded, verbose=0)\n",
    "    predicted_index = np.argmax(prediction, axis=1)[0]\n",
    "    return gesture_classes[predicted_index]\n",
    "\n",
    "# Launch inference server\n",
    "inference_server = kaggle_evaluation.cmi_inference_server.CMIInferenceServer(predict)\n",
    "\n",
    "if os.getenv('KAGGLE_IS_COMPETITION_RERUN'):\n",
    "    inference_server.serve()\n",
    "else:\n",
    "    inference_server.run_local_gateway(\n",
    "        data_paths=(\n",
    "            '/kaggle/input/cmi-detect-behavior-with-sensor-data/test.csv',\n",
    "            '/kaggle/input/cmi-detect-behavior-with-sensor-data/test_demographics.csv',\n",
    "        )\n",
    "    )"
   ]
  },
  {
   "cell_type": "markdown",
   "id": "4d8d017a",
   "metadata": {
    "papermill": {
     "duration": 0.149971,
     "end_time": "2025-06-09T15:58:35.907519",
     "exception": false,
     "start_time": "2025-06-09T15:58:35.757548",
     "status": "completed"
    },
    "tags": []
   },
   "source": [
    "# Verify prediction function"
   ]
  },
  {
   "cell_type": "code",
   "execution_count": 14,
   "id": "7e7bff79",
   "metadata": {
    "execution": {
     "iopub.execute_input": "2025-06-09T15:58:36.216797Z",
     "iopub.status.busy": "2025-06-09T15:58:36.216520Z",
     "iopub.status.idle": "2025-06-09T15:58:36.326299Z",
     "shell.execute_reply": "2025-06-09T15:58:36.325362Z"
    },
    "papermill": {
     "duration": 0.264078,
     "end_time": "2025-06-09T15:58:36.327429",
     "exception": false,
     "start_time": "2025-06-09T15:58:36.063351",
     "status": "completed"
    },
    "tags": []
   },
   "outputs": [
    {
     "name": "stdout",
     "output_type": "stream",
     "text": [
      "\n",
      "Running manual test...\n",
      "Manual prediction result for sequence_id SEQ_000001: Eyebrow - pull hair\n"
     ]
    }
   ],
   "source": [
    "# Manual test (only runs outside Kaggle gateway)\n",
    "if not os.getenv('KAGGLE_IS_COMPETITION_RERUN'):\n",
    "    print(\"\\nRunning manual test...\")\n",
    "    test_df = pd.read_csv('/kaggle/input/cmi-detect-behavior-with-sensor-data/test.csv')\n",
    "    sample_seq_id = test_df['sequence_id'].unique()[0]\n",
    "    test_seq = test_df[test_df['sequence_id'] == sample_seq_id]\n",
    "    prediction = predict(pl.DataFrame(test_seq), None)\n",
    "    print(f\"Manual prediction result for sequence_id {sample_seq_id}: {prediction}\")"
   ]
  }
 ],
 "metadata": {
  "kaggle": {
   "accelerator": "gpu",
   "dataSources": [
    {
     "databundleVersionId": 12518947,
     "sourceId": 102335,
     "sourceType": "competition"
    },
    {
     "sourceId": 242954653,
     "sourceType": "kernelVersion"
    }
   ],
   "dockerImageVersionId": 31041,
   "isGpuEnabled": true,
   "isInternetEnabled": false,
   "language": "python",
   "sourceType": "notebook"
  },
  "kernelspec": {
   "display_name": "Python 3",
   "language": "python",
   "name": "python3"
  },
  "language_info": {
   "codemirror_mode": {
    "name": "ipython",
    "version": 3
   },
   "file_extension": ".py",
   "mimetype": "text/x-python",
   "name": "python",
   "nbconvert_exporter": "python",
   "pygments_lexer": "ipython3",
   "version": "3.11.11"
  },
  "papermill": {
   "default_parameters": {},
   "duration": 319.401791,
   "end_time": "2025-06-09T15:58:40.137737",
   "environment_variables": {},
   "exception": null,
   "input_path": "__notebook__.ipynb",
   "output_path": "__notebook__.ipynb",
   "parameters": {},
   "start_time": "2025-06-09T15:53:20.735946",
   "version": "2.6.0"
  }
 },
 "nbformat": 4,
 "nbformat_minor": 5
}
